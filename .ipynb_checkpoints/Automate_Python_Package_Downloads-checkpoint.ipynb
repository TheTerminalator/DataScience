{
 "cells": [
  {
   "cell_type": "markdown",
   "metadata": {},
   "source": [
    "# Automate Python Pacakge Downloads"
   ]
  },
  {
   "cell_type": "markdown",
   "metadata": {},
   "source": [
    "The following is a simple demonstration of reading in a list of items you would like to selectively scrape and download from the internet. Our specific use case will be focused on a Data Scientist setting up a virtual environment, requiring the manual downloading of several packages which can be a long and boring task to perform. Let's automate it with Selenium\n",
    "\n",
    "Motivation: Developers who work on multiple projects at a time typically use virtual environments to manage python pacakges. While it is fairly easy to use pip or a requirements.txt file to install a bulk number of packages, there are use cases that require manually downloading packages from sites like https://repo.anaconda.com/pkgs/main/linux-64/"
   ]
  },
  {
   "cell_type": "markdown",
   "metadata": {},
   "source": [
    "Table of contents:\n",
    "* [Reading in List of Pacakges](#read)\n",
    "* [Accessing Chrome via Selenium](#selenium)\n",
    "* [Extracting Search Criteria](#search)\n",
    "* [Automatically Download Elements From Webpage](#download)\n",
    "* [Validate Downloaded Data](#validate)"
   ]
  },
  {
   "cell_type": "markdown",
   "metadata": {},
   "source": [
    "### Reading in List of Pacakges<a id='read' ></a>"
   ]
  },
  {
   "cell_type": "code",
   "execution_count": 1,
   "metadata": {},
   "outputs": [],
   "source": [
    "#We use pandas to read in and manipulate our data as a dataframe\n",
    "import pandas as pd\n",
    "import os \n",
    "\n",
    "#expand df to see all text\n",
    "pd.set_option('display.max_rows', None)\n",
    "pd.set_option('display.max_columns', None)\n",
    "pd.set_option('display.width', None)\n",
    "pd.set_option('display.max_colwidth', -1)"
   ]
  },
  {
   "cell_type": "code",
   "execution_count": 4,
   "metadata": {},
   "outputs": [
    {
     "data": {
      "text/html": [
       "<div>\n",
       "<style scoped>\n",
       "    .dataframe tbody tr th:only-of-type {\n",
       "        vertical-align: middle;\n",
       "    }\n",
       "\n",
       "    .dataframe tbody tr th {\n",
       "        vertical-align: top;\n",
       "    }\n",
       "\n",
       "    .dataframe thead th {\n",
       "        text-align: right;\n",
       "    }\n",
       "</style>\n",
       "<table border=\"1\" class=\"dataframe\">\n",
       "  <thead>\n",
       "    <tr style=\"text-align: right;\">\n",
       "      <th></th>\n",
       "      <th>package_name</th>\n",
       "    </tr>\n",
       "  </thead>\n",
       "  <tbody>\n",
       "    <tr>\n",
       "      <td>0</td>\n",
       "      <td>https://repo.anaconda.com/pkgs/main/linux-64/anaconda-navigator-1.9.7-py37_0.tar.bz2</td>\n",
       "    </tr>\n",
       "    <tr>\n",
       "      <td>1</td>\n",
       "      <td>https://repo.anaconda.com/pkgs/main/linux-64/anaconda-2020.02-py38_0.tar.bz2</td>\n",
       "    </tr>\n",
       "    <tr>\n",
       "      <td>2</td>\n",
       "      <td>https://repo.anaconda.com/pkgs/main/linux-64/atom-0.4.3-py38hfd86e86_0.tar.bz2</td>\n",
       "    </tr>\n",
       "    <tr>\n",
       "      <td>3</td>\n",
       "      <td>https://repo.anaconda.com/pkgs/main/linux-64/gensim-3.8.0-py37h962f231_0.tar.bz2</td>\n",
       "    </tr>\n",
       "    <tr>\n",
       "      <td>4</td>\n",
       "      <td>https://repo.anaconda.com/pkgs/main/linux-64/hdijupyterutils-0.12.6-py37_0.tar.bz2</td>\n",
       "    </tr>\n",
       "  </tbody>\n",
       "</table>\n",
       "</div>"
      ],
      "text/plain": [
       "                                                                           package_name\n",
       "0  https://repo.anaconda.com/pkgs/main/linux-64/anaconda-navigator-1.9.7-py37_0.tar.bz2\n",
       "1  https://repo.anaconda.com/pkgs/main/linux-64/anaconda-2020.02-py38_0.tar.bz2        \n",
       "2  https://repo.anaconda.com/pkgs/main/linux-64/atom-0.4.3-py38hfd86e86_0.tar.bz2      \n",
       "3  https://repo.anaconda.com/pkgs/main/linux-64/gensim-3.8.0-py37h962f231_0.tar.bz2    \n",
       "4  https://repo.anaconda.com/pkgs/main/linux-64/hdijupyterutils-0.12.6-py37_0.tar.bz2  "
      ]
     },
     "execution_count": 4,
     "metadata": {},
     "output_type": "execute_result"
    }
   ],
   "source": [
    "df = pd.read_csv('/Users/PATH/package_list.txt')\n",
    "df.head()"
   ]
  },
  {
   "cell_type": "code",
   "execution_count": 6,
   "metadata": {},
   "outputs": [
    {
     "data": {
      "text/plain": [
       "(5, 1)"
      ]
     },
     "execution_count": 6,
     "metadata": {},
     "output_type": "execute_result"
    }
   ],
   "source": [
    "#How many files do we need to download?\n",
    "df.shape"
   ]
  },
  {
   "cell_type": "code",
   "execution_count": 41,
   "metadata": {
    "scrolled": true
   },
   "outputs": [
    {
     "data": {
      "text/plain": [
       "['anaconda-navigator-1.9.7-py37_0.tar.bz2',\n",
       " 'anaconda-2020.02-py38_0.tar.bz2',\n",
       " 'atom-0.4.3-py38hfd86e86_0.tar.bz2',\n",
       " 'gensim-3.8.0-py37h962f231_0.tar.bz2',\n",
       " 'hdijupyterutils-0.12.6-py37_0.tar.bz2']"
      ]
     },
     "execution_count": 41,
     "metadata": {},
     "output_type": "execute_result"
    }
   ],
   "source": [
    "#We need to extract only the name of the package we would like to use as a search criteria on the anaconda repo\n",
    "import re\n",
    "\n",
    "df_list = df['package_name'].tolist()\n",
    "package_list = []\n",
    "for package in df_list:\n",
    "    term = re.split('linux-64/',package)[1]\n",
    "    package_list.append(term)\n",
    "    \n",
    "package_list"
   ]
  },
  {
   "cell_type": "markdown",
   "metadata": {},
   "source": [
    "### Accessing Chrome via Selenium<a id='selenium' > </a>"
   ]
  },
  {
   "cell_type": "code",
   "execution_count": 42,
   "metadata": {},
   "outputs": [],
   "source": [
    "from selenium import webdriver\n",
    "from selenium.webdriver.chrome.options import Options\n",
    "import os\n",
    "import time\n",
    "\n",
    "# Using Chrome to access web via selenium\n",
    "path = '/Users/PATH' #identify path for chromedriver\n",
    "web_page = 'https://repo.anaconda.com/pkgs/main/linux-64/'\n",
    "\n",
    "\n",
    "driver = webdriver.Chrome(executable_path=path)\n",
    "driver.get(web_page)"
   ]
  },
  {
   "cell_type": "markdown",
   "metadata": {},
   "source": [
    "### Extracting Search Criteria <a id='search' > </a>"
   ]
  },
  {
   "cell_type": "code",
   "execution_count": 51,
   "metadata": {},
   "outputs": [],
   "source": [
    "#In order to find matches via text, we need to create input items Selenium can work with\n",
    "reg_begin = '//*[contains(text(), '\n",
    "reg_end = ')]'"
   ]
  },
  {
   "cell_type": "code",
   "execution_count": 52,
   "metadata": {},
   "outputs": [
    {
     "data": {
      "text/plain": [
       "[\"//*[contains(text(), 'anaconda-navigator-1.9.7-py37_0.tar.bz2')]\",\n",
       " \"//*[contains(text(), 'anaconda-2020.02-py38_0.tar.bz2')]\",\n",
       " \"//*[contains(text(), 'atom-0.4.3-py38hfd86e86_0.tar.bz2')]\",\n",
       " \"//*[contains(text(), 'gensim-3.8.0-py37h962f231_0.tar.bz2')]\",\n",
       " \"//*[contains(text(), 'hdijupyterutils-0.12.6-py37_0.tar.bz2')]\"]"
      ]
     },
     "execution_count": 52,
     "metadata": {},
     "output_type": "execute_result"
    }
   ],
   "source": [
    "#build search elements for xpath\n",
    "search_elements = []\n",
    "for package in package_list:\n",
    "    term = reg_begin + \"'\" + str(package) + \"'\" + reg_end\n",
    "    search_elements.append(term)\n",
    "\n",
    "#This is the Xpath format Selenium reads to execute text related searches on a webpage\n",
    "search_elements"
   ]
  },
  {
   "cell_type": "code",
   "execution_count": 49,
   "metadata": {},
   "outputs": [
    {
     "data": {
      "text/plain": [
       "[[<selenium.webdriver.remote.webelement.WebElement (session=\"384c4aa2e521fe9f7c47e832ec47bbf1\", element=\"b80c8921-4372-4161-973d-2c9c04aa9220\")>],\n",
       " [<selenium.webdriver.remote.webelement.WebElement (session=\"384c4aa2e521fe9f7c47e832ec47bbf1\", element=\"e351b4b6-d2d9-4d76-9dff-e2add50d3eb4\")>],\n",
       " [<selenium.webdriver.remote.webelement.WebElement (session=\"384c4aa2e521fe9f7c47e832ec47bbf1\", element=\"375787e6-ad8c-4da4-aaca-7e3c41d60dd8\")>],\n",
       " [<selenium.webdriver.remote.webelement.WebElement (session=\"384c4aa2e521fe9f7c47e832ec47bbf1\", element=\"e47cd3aa-d02b-4c3e-af43-3311487c247a\")>],\n",
       " [<selenium.webdriver.remote.webelement.WebElement (session=\"384c4aa2e521fe9f7c47e832ec47bbf1\", element=\"8bf0730c-ec2a-4a18-a40a-853b284fc213\")>]]"
      ]
     },
     "execution_count": 49,
     "metadata": {},
     "output_type": "execute_result"
    }
   ],
   "source": [
    "#Get click inputs for what Selenium finds based on search criteria\n",
    "search_inputs = []\n",
    "for term in search_elements:\n",
    "    search_inputs.append(driver.find_elements_by_xpath(term))\n",
    "\n",
    "#Selenium click inputs\n",
    "search_inputs"
   ]
  },
  {
   "cell_type": "markdown",
   "metadata": {},
   "source": [
    "### Automatically Download Elements From Webpage <a id='download' > </a>"
   ]
  },
  {
   "cell_type": "code",
   "execution_count": 53,
   "metadata": {},
   "outputs": [],
   "source": [
    "#Run this block of code to iterate and click through your list of final_search_inputs to download files\n",
    "\n",
    "for i in range(0,len(search_inputs)):\n",
    "    search_inputs[i][0].click()\n",
    "    #pausing the for loop for two seconds to prevent selenium from crashing\n",
    "    time.sleep(2)"
   ]
  },
  {
   "cell_type": "markdown",
   "metadata": {},
   "source": [
    "### Validate Data Download  <a id='validate' > </a>"
   ]
  },
  {
   "cell_type": "code",
   "execution_count": 57,
   "metadata": {},
   "outputs": [
    {
     "data": {
      "text/plain": [
       "['gensim-3.8.0-py37h962f231_0',\n",
       " 'anaconda-2020.02-py38_0',\n",
       " 'anaconda-navigator-1.9.7-py37_0',\n",
       " 'hdijupyterutils-0.12.6-py37_0',\n",
       " 'atom-0.4.3-py38hfd86e86_0']"
      ]
     },
     "execution_count": 57,
     "metadata": {},
     "output_type": "execute_result"
    }
   ],
   "source": [
    "#make we have all the right missing packages\n",
    "import glob\n",
    "new_path = '/Users/PATH/*.tar.bz2' #including *.tar.bz2 collects all files in the folder with the .tar.bz2 file extension\n",
    "tar_packages = glob.glob(new_path)\n",
    "path = '/Users/PATH' #do not inculde the *.tar.bz2\n",
    "\n",
    "final_tar_list = []\n",
    "for i in tar_packages:\n",
    "    beg = re.split(path, i)[1] #split path\n",
    "    end = re.split('.tar.bz2', beg)[0] #remove file extension\n",
    "    final_tar_list.append(end)\n",
    "\n",
    "#Confirm we have downloaded the correct packages\n",
    "final_tar_list"
   ]
  }
 ],
 "metadata": {
  "kernelspec": {
   "display_name": "Python 3",
   "language": "python",
   "name": "python3"
  },
  "language_info": {
   "codemirror_mode": {
    "name": "ipython",
    "version": 3
   },
   "file_extension": ".py",
   "mimetype": "text/x-python",
   "name": "python",
   "nbconvert_exporter": "python",
   "pygments_lexer": "ipython3",
   "version": "3.7.4"
  }
 },
 "nbformat": 4,
 "nbformat_minor": 2
}
