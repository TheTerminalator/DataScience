{
 "cells": [
  {
   "cell_type": "code",
   "execution_count": 2,
   "metadata": {},
   "outputs": [],
   "source": [
    "import os\n",
    "import nltk"
   ]
  },
  {
   "cell_type": "code",
   "execution_count": 23,
   "metadata": {},
   "outputs": [],
   "source": [
    "#wd = os.getcwd()\n",
    "#os.listdir(wd)"
   ]
  },
  {
   "cell_type": "code",
   "execution_count": 17,
   "metadata": {},
   "outputs": [
    {
     "name": "stdout",
     "output_type": "stream",
     "text": [
      "['Hello Mr. Smith, how are you doing today?', 'The weather is phenomenal, and the city is awesome.', 'The sky is pinkish-blue.', \"You shouldn't eat cardboard\"]\n"
     ]
    }
   ],
   "source": [
    "# Text analysis with NLTK\n",
    "# Tokenization: process of breaking down a text paragraph into smaller chunks such as words or a sentence is\n",
    "# called tokenization. \n",
    "\n",
    "#Sentence Tokenization\n",
    "from nltk.tokenize import sent_tokenize, word_tokenize\n",
    "\n",
    "sample_text = \"\"\"Hello Mr. Smith, how are you doing today? The weather is phenomenal, and the city is awesome.\n",
    " The sky is pinkish-blue. You shouldn't eat cardboard\"\"\"\n",
    "\n",
    "tokenized_text = sent_tokenize(sample_text)\n",
    "print(tokenized_text)"
   ]
  },
  {
   "cell_type": "code",
   "execution_count": 19,
   "metadata": {},
   "outputs": [
    {
     "name": "stdout",
     "output_type": "stream",
     "text": [
      "['Hello', 'Mr.', 'Smith', ',', 'how', 'are', 'you', 'doing', 'today', '?', 'The', 'weather', 'is', 'phenomenal', ',', 'and', 'the', 'city', 'is', 'awesome', '.', 'The', 'sky', 'is', 'pinkish-blue', '.', 'You', 'should', \"n't\", 'eat', 'cardboard']\n"
     ]
    }
   ],
   "source": [
    "#Word Tokenization\n",
    "# word tokenization breaks text paragraph into words\n",
    "tokenized_word = word_tokenize(sample_text)\n",
    "print(tokenized_word)"
   ]
  },
  {
   "cell_type": "code",
   "execution_count": 22,
   "metadata": {},
   "outputs": [
    {
     "name": "stdout",
     "output_type": "stream",
     "text": [
      "Geeks for Geeks\n"
     ]
    }
   ],
   "source": [
    "#Stripping a special character\n",
    "string = '@@@@Geeks for Geeks@@@@@'\n",
    "print(string.strip('@')) "
   ]
  },
  {
   "cell_type": "code",
   "execution_count": 26,
   "metadata": {},
   "outputs": [
    {
     "name": "stdout",
     "output_type": "stream",
     "text": [
      "<FreqDist with 26 samples and 31 outcomes>\n"
     ]
    }
   ],
   "source": [
    "# Frequency Distribution\n",
    "from nltk import FreqDist\n",
    "fdist = FreqDist(tokenized_word)\n",
    "print(fdist)"
   ]
  },
  {
   "cell_type": "code",
   "execution_count": 27,
   "metadata": {},
   "outputs": [
    {
     "data": {
      "text/plain": [
       "[('is', 3), (',', 2), ('The', 2)]"
      ]
     },
     "execution_count": 27,
     "metadata": {},
     "output_type": "execute_result"
    }
   ],
   "source": [
    "fdist.most_common(3)"
   ]
  },
  {
   "cell_type": "code",
   "execution_count": 30,
   "metadata": {},
   "outputs": [
    {
     "data": {
      "image/png": "[encoded data removed]",
      "text/plain": [
       "<Figure size 432x288 with 1 Axes>"
      ]
     },
     "metadata": {
      "needs_background": "light"
     },
     "output_type": "display_data"
    }
   ],
   "source": [
    "import matplotlib.pyplot as plt\n",
    "fdist.plot(30, cumulative = False)\n",
    "plt.show()"
   ]
  },
  {
   "cell_type": "code",
   "execution_count": 37,
   "metadata": {},
   "outputs": [
    {
     "name": "stdout",
     "output_type": "stream",
     "text": [
      "{'his', 'wouldn', 'been', \"don't\", 'there', 'while', 'other', 'is', 'but', 'all', 't', 'that', 'nor', \"doesn't\", 'any', 'll', \"wouldn't\", 'not', 'himself', 'to', \"won't\", 'don', 'this', 'me', 'an', 'themselves', 'having', 'as', 'doesn', 'will', 'further', 'of', 'both', 'her', 'he', 'before', \"wasn't\", \"hadn't\", 'whom', \"you've\", 'on', 've', \"needn't\", 'for', \"should've\", 'couldn', 'their', 'your', 'has', 'yourself', 'theirs', 'about', \"it's\", 'very', 'more', 'no', \"mightn't\", 'up', \"shouldn't\", 'they', 'she', 'off', \"aren't\", 'during', 'needn', 'we', 'from', 'such', 'by', 'y', 'those', 'each', 'weren', 'below', 'ma', 'or', 'until', \"shan't\", \"didn't\", 'against', \"she's\", 'shan', 'over', 'after', 'too', \"haven't\", 'wasn', 'hers', 'through', 'o', 'out', 'you', 'down', 'does', \"couldn't\", 'who', 'why', \"hasn't\", 'ourselves', 'under', \"weren't\", 'isn', 'my', 'own', 'mightn', 'have', 'yourselves', 'same', 'haven', \"you're\", 'which', 'how', 'shouldn', 'ours', 'now', 'in', 'be', 'ain', 'was', 'because', 'hadn', 'what', \"isn't\", 'won', 'the', 'at', 'only', 'doing', 'it', 'where', 'am', 'few', 'between', \"you'd\", 'then', 'hasn', 'aren', 'itself', 're', 'him', 'them', 'did', 'when', 'didn', 'its', 'into', \"that'll\", 'being', 'so', 'just', 'these', \"you'll\", 'again', 'our', 's', 'yours', 'were', 'do', 'herself', 'if', 'most', 'above', 'once', 'with', 'and', 'some', 'd', 'had', 'can', 'm', 'than', 'should', 'are', 'a', 'mustn', \"mustn't\", 'here', 'myself', 'i'}\n"
     ]
    }
   ],
   "source": [
    "# Stopwords \n",
    "# Need to create a list of stopwords and filter your text through those stopwords. In this case, we are using NLTK corpus\n",
    "from nltk.corpus import stopwords\n",
    "\n",
    "stop_words = set(stopwords.words(\"english\"))\n",
    "print(stop_words)"
   ]
  },
  {
   "cell_type": "code",
   "execution_count": 42,
   "metadata": {},
   "outputs": [
    {
     "name": "stdout",
     "output_type": "stream",
     "text": [
      "Tokenized Sentence: ['Hello Mr. Smith, how are you doing today?', 'The weather is phenomenal, and the city is awesome.', 'The sky is pinkish-blue.', \"You shouldn't eat cardboard\"]\n",
      "Filtered Sentence: ['Hello', 'Mr.', 'Smith', ',', 'today', '?', 'The', 'weather', 'phenomenal', ',', 'city', 'awesome', '.', 'The', 'sky', 'pinkish-blue', '.', 'You', \"n't\", 'eat', 'cardboard']\n"
     ]
    }
   ],
   "source": [
    "filtered_sent = []\n",
    "for word in tokenized_word:\n",
    "    if word not in stop_words:\n",
    "        filtered_sent.append(word)\n",
    "\n",
    "        \n",
    "print(\"Tokenized Sentence:\", tokenized_text)\n",
    "print(\"Filtered Sentence:\", filtered_sent)"
   ]
  },
  {
   "cell_type": "code",
   "execution_count": 45,
   "metadata": {},
   "outputs": [
    {
     "name": "stdout",
     "output_type": "stream",
     "text": [
      "Filtered Sentence: ['Hello', 'Mr.', 'Smith', ',', 'today', '?', 'The', 'weather', 'phenomenal', ',', 'city', 'awesome', '.', 'The', 'sky', 'pinkish-blue', '.', 'You', \"n't\", 'eat', 'cardboard']\n",
      "Stemmed Sentence: ['hello', 'mr.', 'smith', ',', 'today', '?', 'the', 'weather', 'phenomen', ',', 'citi', 'awesom', '.', 'the', 'sky', 'pinkish-blu', '.', 'you', \"n't\", 'eat', 'cardboard']\n"
     ]
    }
   ],
   "source": [
    "# Lexicon Normalization\n",
    "# Stemming is a process of linguistic normalization, which reduces words to their root word or chops off the derivational affixes.\n",
    "\n",
    "from nltk.stem import PorterStemmer\n",
    "\n",
    "stemmed_words = []\n",
    "for w in filtered_sent:\n",
    "    stemmed_words.append(PorterStemmer().stem(w))\n",
    "            \n",
    "print(\"Filtered Sentence:\", filtered_sent)\n",
    "print(\"Stemmed Sentence:\", stemmed_words)"
   ]
  },
  {
   "cell_type": "code",
   "execution_count": 52,
   "metadata": {},
   "outputs": [
    {
     "name": "stdout",
     "output_type": "stream",
     "text": [
      "Lemmatized Word:  fly\n",
      "Stemmed Word:  fli\n"
     ]
    }
   ],
   "source": [
    "#Lexicon Normalization\n",
    "#stemming and lemmatization\n",
    "from nltk.stem.wordnet import WordNetLemmatizer\n",
    "lem = WordNetLemmatizer()\n",
    "\n",
    "from nltk.stem.porter import PorterStemmer\n",
    "stem = PorterStemmer()\n",
    "\n",
    "word = \"flying\"\n",
    "print(\"Lemmatized Word: \", lem.lemmatize(word, 'v'))\n",
    "print(\"Stemmed Word: \", stem.stem(word))"
   ]
  },
  {
   "cell_type": "code",
   "execution_count": 56,
   "metadata": {},
   "outputs": [
    {
     "name": "stdout",
     "output_type": "stream",
     "text": [
      "['Albert', 'Einstein', 'was', 'born', 'in', 'Ulm', ',', 'Germany', 'in', '1879']\n"
     ]
    },
    {
     "data": {
      "text/plain": [
       "[('Albert', 'NNP'),\n",
       " ('Einstein', 'NNP'),\n",
       " ('was', 'VBD'),\n",
       " ('born', 'VBN'),\n",
       " ('in', 'IN'),\n",
       " ('Ulm', 'NNP'),\n",
       " (',', ','),\n",
       " ('Germany', 'NNP'),\n",
       " ('in', 'IN'),\n",
       " ('1879', 'CD')]"
      ]
     },
     "execution_count": 56,
     "metadata": {},
     "output_type": "execute_result"
    }
   ],
   "source": [
    "#Part of Speech Tagging\n",
    "sample = 'Albert Einstein was born in Ulm, Germany in 1879'\n",
    "\n",
    "tokens = nltk.word_tokenize(sample)\n",
    "print(tokens)\n",
    "\n",
    "nltk.pos_tag(tokens)"
   ]
  },
  {
   "cell_type": "code",
   "execution_count": null,
   "metadata": {},
   "outputs": [],
   "source": []
  }
 ],
 "metadata": {
  "kernelspec": {
   "display_name": "Python 3",
   "language": "python",
   "name": "python3"
  },
  "language_info": {
   "codemirror_mode": {
    "name": "ipython",
    "version": 3
   },
   "file_extension": ".py",
   "mimetype": "text/x-python",
   "name": "python",
   "nbconvert_exporter": "python",
   "pygments_lexer": "ipython3",
   "version": "3.7.4"
  }
 },
 "nbformat": 4,
 "nbformat_minor": 2
}
