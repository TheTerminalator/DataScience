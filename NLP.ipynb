{
 "cells": [
  {
   "cell_type": "code",
   "execution_count": 5,
   "metadata": {},
   "outputs": [],
   "source": [
    "import os\n",
    "import nltk\n",
    "import gensim\n",
    "import pandas as pd"
   ]
  },
  {
   "cell_type": "code",
   "execution_count": 6,
   "metadata": {},
   "outputs": [],
   "source": [
    "#wd = os.getcwd()\n",
    "#os.listdir(wd)"
   ]
  },
  {
   "cell_type": "code",
   "execution_count": 116,
   "metadata": {},
   "outputs": [],
   "source": [
    "test = {'flag1':[0],'flag2':[0],'flag3':[0],'flag4':[1]}"
   ]
  },
  {
   "cell_type": "code",
   "execution_count": 117,
   "metadata": {},
   "outputs": [],
   "source": [
    "df = pd.DataFrame(test)"
   ]
  },
  {
   "cell_type": "code",
   "execution_count": 118,
   "metadata": {},
   "outputs": [],
   "source": [
    "df['test']= (df.iloc[0].sum() < 2)"
   ]
  },
  {
   "cell_type": "code",
   "execution_count": 119,
   "metadata": {},
   "outputs": [
    {
     "data": {
      "text/plain": [
       "0    True\n",
       "Name: test, dtype: bool"
      ]
     },
     "execution_count": 119,
     "metadata": {},
     "output_type": "execute_result"
    }
   ],
   "source": [
    "df['test']"
   ]
  },
  {
   "cell_type": "code",
   "execution_count": 120,
   "metadata": {},
   "outputs": [
    {
     "data": {
      "text/plain": [
       "1"
      ]
     },
     "execution_count": 120,
     "metadata": {},
     "output_type": "execute_result"
    }
   ],
   "source": [
    "int(df['test'])"
   ]
  },
  {
   "cell_type": "markdown",
   "metadata": {},
   "source": [
    "## Text Analysis with NLTK and gensim\n",
    "* [Tokenization: Sentence and Words](#token)\n",
    "* [Stopwords](#stop)\n",
    "* [Stemming and Lemmatization](#stem)\n",
    "* [Part of Speech Tagging](#pos)\n",
    "* [Doc2Vec](#doc2vec)\n",
    "* [LDA](#lda)"
   ]
  },
  {
   "cell_type": "markdown",
   "metadata": {},
   "source": [
    "### Tokenization: Sentence and Words <a id='token' > </a>"
   ]
  },
  {
   "cell_type": "code",
   "execution_count": 207,
   "metadata": {},
   "outputs": [],
   "source": [
    "# Text analysis with NLTK\n",
    "# Breaking down a paragraph of text into smaller parts such as sentences or words is called Tokenization\n",
    "\n",
    "from nltk.tokenize import sent_tokenize, word_tokenize\n",
    "\n",
    "sample_text = \"\"\"Hello Mr. Smith, how are you doing today? The weather is phenomenal, and the city is awesome.\n",
    " The sky is pinkish-blue. You shouldn't eat cardboard\"\"\""
   ]
  },
  {
   "cell_type": "code",
   "execution_count": 208,
   "metadata": {},
   "outputs": [
    {
     "name": "stdout",
     "output_type": "stream",
     "text": [
      "['Hello Mr. Smith, how are you doing today?', 'The weather is phenomenal, and the city is awesome.', 'The sky is pinkish-blue.', \"You shouldn't eat cardboard\"]\n"
     ]
    }
   ],
   "source": [
    "#Sentence Tokenization\n",
    "tokenized_text = sent_tokenize(sample_text)\n",
    "print(tokenized_text)"
   ]
  },
  {
   "cell_type": "code",
   "execution_count": 209,
   "metadata": {},
   "outputs": [
    {
     "name": "stdout",
     "output_type": "stream",
     "text": [
      "['Hello', 'Mr.', 'Smith', ',', 'how', 'are', 'you', 'doing', 'today', '?', 'The', 'weather', 'is', 'phenomenal', ',', 'and', 'the', 'city', 'is', 'awesome', '.', 'The', 'sky', 'is', 'pinkish-blue', '.', 'You', 'should', \"n't\", 'eat', 'cardboard']\n"
     ]
    }
   ],
   "source": [
    "#Word Tokenization\n",
    "tokenized_word = word_tokenize(sample_text)\n",
    "print(tokenized_word)"
   ]
  },
  {
   "cell_type": "code",
   "execution_count": 219,
   "metadata": {},
   "outputs": [
    {
     "name": "stdout",
     "output_type": "stream",
     "text": [
      "Most common words in corpus:  [('is', 3), (',', 2), ('The', 2)]\n"
     ]
    },
    {
     "data": {
      "image/png": "[encoded data removed]",
      "text/plain": [
       "<Figure size 432x288 with 1 Axes>"
      ]
     },
     "metadata": {
      "needs_background": "light"
     },
     "output_type": "display_data"
    }
   ],
   "source": [
    "# Frequency Distribution\n",
    "from nltk import FreqDist\n",
    "fdist = FreqDist(tokenized_word)\n",
    "\n",
    "print('Most common words in corpus: ',fdist.most_common(3))\n",
    "\n",
    "import matplotlib.pyplot as plt\n",
    "plt.title('Freq Distribution of Words in Corpus')\n",
    "fdist.plot(30, cumulative = False)\n",
    "plt.show()"
   ]
  },
  {
   "cell_type": "markdown",
   "metadata": {},
   "source": [
    "### Stopwords <a id='stop' > </a>"
   ]
  },
  {
   "cell_type": "code",
   "execution_count": 222,
   "metadata": {},
   "outputs": [
    {
     "name": "stdout",
     "output_type": "stream",
     "text": [
      "Stop words in NLTK English corpus: \n",
      " {\"that'll\", 'd', 'just', 'its', \"haven't\", 'don', 'having', 'whom', 'wasn', 'm', 'while', 'myself', 'about', 'mightn', 'does', 'how', 'through', 'from', 'yourselves', 'below', 'where', 'ma', 'after', 'as', 'under', 'll', 'being', 'off', 'then', 'any', 'only', 'a', 'over', 'an', 'she', 've', 'we', 'herself', 'why', \"doesn't\", 'each', 'by', \"don't\", 'with', 'against', \"you'd\", 'do', 'for', 'ain', \"you're\", 'between', 'what', \"hasn't\", \"weren't\", 's', 'was', 'few', 'aren', \"needn't\", 'there', \"won't\", 'once', 'will', 'which', 'some', 'than', 'above', 'are', 'itself', \"couldn't\", 'should', 'am', 'shan', \"shan't\", 'now', 'those', 'doesn', 'that', 'did', 'again', 'haven', 'ours', 'down', 'own', 'her', 'their', 'shouldn', \"shouldn't\", \"she's\", 'be', 'very', 'of', 'in', 'himself', 'this', 'hasn', 'them', 'if', \"wouldn't\", 'these', 'theirs', \"you'll\", 'didn', \"wasn't\", 'my', 'not', 'or', \"hadn't\", 'other', 'same', 'nor', 'out', 'our', 'until', 'here', 'needn', 'y', 'had', 'all', \"isn't\", 'you', 'because', 't', 'o', 'on', 'during', 'to', 'ourselves', 'him', 'were', 'your', 'weren', 'both', 'doing', 're', 'been', 'when', 'hadn', 'too', \"mustn't\", 'yourself', \"you've\", 'at', 'who', 'couldn', 'has', 'more', 'most', 'is', 'can', 'hers', 'up', 'so', 'he', \"it's\", 'such', \"aren't\", 'they', 'me', \"didn't\", 'themselves', 'further', 'mustn', 'his', 'wouldn', 'won', 'no', 'have', 'it', 'but', 'before', \"mightn't\", 'yours', 'i', 'isn', \"should've\", 'the', 'and', 'into'}\n"
     ]
    }
   ],
   "source": [
    "# Stopwords \n",
    "# Need to create a list of stopwords and filter out the stopwords in your text, NLTK has it's own\n",
    "from nltk.corpus import stopwords\n",
    "\n",
    "stop_words = set(stopwords.words(\"english\"))\n",
    "print('Stop words in NLTK English corpus: \\n',stop_words)"
   ]
  },
  {
   "cell_type": "code",
   "execution_count": 235,
   "metadata": {},
   "outputs": [
    {
     "name": "stdout",
     "output_type": "stream",
     "text": [
      "Original Tokenized Text before removing stopwords: \n",
      " ['Hello', 'Mr.', 'Smith', ',', 'how', 'are', 'you', 'doing', 'today', '?', 'The', 'weather', 'is', 'phenomenal', ',', 'and', 'the', 'city', 'is', 'awesome', '.', 'The', 'sky', 'is', 'pinkish-blue', '.', 'You', 'should', \"n't\", 'eat', 'cardboard']\n",
      "\n",
      "---------------------------------------\n",
      "\n",
      "Stopwords removed: \n",
      " ['Hello', 'Mr.', 'Smith', ',', 'today', '?', 'The', 'weather', 'phenomenal', ',', 'city', 'awesome', '.', 'The', 'sky', 'pinkish-blue', '.', 'You', \"n't\", 'eat', 'cardboard']\n"
     ]
    }
   ],
   "source": [
    "#Filtering out stopwords from tokenized text\n",
    "filtered_sent = []\n",
    "for word in tokenized_word:\n",
    "    if word not in stop_words:\n",
    "        filtered_sent.append(word)\n",
    "\n",
    "        \n",
    "print(\"Original Tokenized Text before removing stopwords: \\n\", tokenized_word)\n",
    "print('\\n---------------------------------------\\n')\n",
    "print(\"Stopwords removed: \\n\", filtered_sent)"
   ]
  },
  {
   "cell_type": "markdown",
   "metadata": {},
   "source": [
    "### Stemming and Lemmatization <a id='stem' > </a>"
   ]
  },
  {
   "cell_type": "code",
   "execution_count": 240,
   "metadata": {
    "scrolled": true
   },
   "outputs": [
    {
     "name": "stdout",
     "output_type": "stream",
     "text": [
      "Original Word: flying\n",
      "Lemmatized Word: fly\n",
      "Stemmed Word: fli\n"
     ]
    }
   ],
   "source": [
    "#Lexicon Normalization\n",
    "#stemming and lemmatization\n",
    "from nltk.stem.wordnet import WordNetLemmatizer\n",
    "lem = WordNetLemmatizer()\n",
    "\n",
    "from nltk.stem.porter import PorterStemmer\n",
    "stem = PorterStemmer()\n",
    "\n",
    "word = \"flying\"\n",
    "print(\"Original Word:\", word)\n",
    "print(\"Lemmatized Word:\", lem.lemmatize(word, 'v'))\n",
    "print(\"Stemmed Word:\", stem.stem(word))"
   ]
  },
  {
   "cell_type": "code",
   "execution_count": 243,
   "metadata": {},
   "outputs": [
    {
     "name": "stdout",
     "output_type": "stream",
     "text": [
      "Filtered Sentence with no stopwords: \n",
      " ['Hello', 'Mr.', 'Smith', ',', 'today', '?', 'The', 'weather', 'phenomenal', ',', 'city', 'awesome', '.', 'The', 'sky', 'pinkish-blue', '.', 'You', \"n't\", 'eat', 'cardboard'] \n",
      "\n",
      "Stemmed Sentence: \n",
      " ['hello', 'mr.', 'smith', ',', 'today', '?', 'the', 'weather', 'phenomen', ',', 'citi', 'awesom', '.', 'the', 'sky', 'pinkish-blu', '.', 'you', \"n't\", 'eat', 'cardboard']\n"
     ]
    }
   ],
   "source": [
    "# Stem words in our sample text \n",
    "from nltk.stem import PorterStemmer\n",
    "\n",
    "stemmed_words = []\n",
    "for w in filtered_sent:\n",
    "    stemmed_words.append(PorterStemmer().stem(w))\n",
    "            \n",
    "print(\"Filtered Sentence with no stopwords: \\n\", filtered_sent,'\\n')\n",
    "print(\"Stemmed Sentence: \\n\", stemmed_words)"
   ]
  },
  {
   "cell_type": "markdown",
   "metadata": {},
   "source": [
    "### Part of Speech Tagging <a id='pos' > </a>"
   ]
  },
  {
   "cell_type": "code",
   "execution_count": 250,
   "metadata": {},
   "outputs": [
    {
     "name": "stdout",
     "output_type": "stream",
     "text": [
      "\n",
      "Tokens and their part of speech: \n"
     ]
    },
    {
     "data": {
      "text/plain": [
       "[('hello', 'NN'),\n",
       " ('mr.', 'NN'),\n",
       " ('smith', 'NN'),\n",
       " (',', ','),\n",
       " ('today', 'NN'),\n",
       " ('?', '.'),\n",
       " ('the', 'DT'),\n",
       " ('weather', 'NN'),\n",
       " ('phenomen', 'NNS'),\n",
       " (',', ','),\n",
       " ('citi', 'NN'),\n",
       " ('awesom', 'NN'),\n",
       " ('.', '.'),\n",
       " ('the', 'DT'),\n",
       " ('sky', 'JJ'),\n",
       " ('pinkish-blu', 'NN'),\n",
       " ('.', '.'),\n",
       " ('you', 'PRP'),\n",
       " (\"n't\", 'RB'),\n",
       " ('eat', 'VB'),\n",
       " ('cardboard', 'NN')]"
      ]
     },
     "execution_count": 250,
     "metadata": {},
     "output_type": "execute_result"
    }
   ],
   "source": [
    "#Part of Speech Tagging\n",
    "#sample = 'Jeff Smith was born in Ulm, Germany in 1879'\n",
    "\n",
    "#tokens = nltk.word_tokenize(sample)\n",
    "#print('Tokens in sentence: ',tokens)\n",
    "\n",
    "print('\\nTokens and their part of speech: ')\n",
    "nltk.pos_tag(tokens)\n",
    "nltk.pos_tag(stemmed_words)"
   ]
  },
  {
   "cell_type": "markdown",
   "metadata": {},
   "source": [
    "### Doc2Vec <a id='doc2vec' > </a>"
   ]
  },
  {
   "cell_type": "code",
   "execution_count": 251,
   "metadata": {},
   "outputs": [],
   "source": [
    "#NLP with Gensim/Doc2Vec\n",
    "from gensim.models.doc2vec import Doc2Vec, TaggedDocument\n",
    "from nltk.tokenize import word_tokenize"
   ]
  },
  {
   "cell_type": "code",
   "execution_count": 259,
   "metadata": {},
   "outputs": [],
   "source": [
    "#More Fake Text Data\n",
    "text_corpus = [\n",
    "    \"Human machine interface for lab abc computer applications\",\n",
    "    \"A survey of user opinion of computer system response time\",\n",
    "    \"The EPS user interface management system\",\n",
    "    \"System and human system engineering testing of EPS\",\n",
    "    \"Relation of user perceived response time to error measurement\",\n",
    "    \"The generation of random binary unordered trees\",\n",
    "    \"The intersection graph of paths in trees\",\n",
    "    \"Graph minors IV Widths of trees and well quasi ordering\",\n",
    "    \"Graph minors A survey\",\n",
    "]\n",
    "\n",
    "data = ['I love machine learning. Its so cool',\n",
    "       \"I love coding in python\",\n",
    "       'I love building chatbots',\n",
    "       'they chat amazingly well']"
   ]
  },
  {
   "cell_type": "code",
   "execution_count": 255,
   "metadata": {},
   "outputs": [
    {
     "name": "stdout",
     "output_type": "stream",
     "text": [
      "['Human machine interface for lab abc computer applications', 'A survey of user opinion of computer system response time', 'The EPS user interface management system', 'System and human system engineering testing of EPS', 'Relation of user perceived response time to error measurement', 'The generation of random binary unordered trees', 'The intersection graph of paths in trees', 'Graph minors IV Widths of trees and well quasi ordering', 'Graph minors A survey']\n"
     ]
    }
   ],
   "source": [
    "# Taking observations from dataframe and putting into doc2vec format\n",
    "\n",
    "# Create df\n",
    "import pandas as pd\n",
    "df = pd.DataFrame(\n",
    "    [p] for p in text_corpus\n",
    ")\n",
    "\n",
    "# Convert df to list\n",
    "# Create an empty list \n",
    "row_list =[] \n",
    "  \n",
    "# Iterate over each row \n",
    "for index,rows in df.iterrows(): \n",
    "    # Create list for the current row \n",
    "    my_list = rows[0] \n",
    "      \n",
    "    # append the list to the final list \n",
    "    row_list.append(my_list) \n",
    "\n",
    "#print the list\n",
    "print(row_list) "
   ]
  },
  {
   "cell_type": "code",
   "execution_count": 262,
   "metadata": {},
   "outputs": [],
   "source": [
    "#Removing stopwords provided by NLTK (shown above)\n",
    "filtered_list = [[word for word in document.lower().split() if word not in stop_words] for document in row_list]"
   ]
  },
  {
   "cell_type": "code",
   "execution_count": 263,
   "metadata": {},
   "outputs": [],
   "source": [
    "#Tokenize sentences with tags for each document for training with Doc2Vec (text_corpus data)\n",
    "tagged_list = [TaggedDocument(words = filtered_list[i], tags = [str(i)]) for i, _d in enumerate(filtered_list)]"
   ]
  },
  {
   "cell_type": "code",
   "execution_count": 269,
   "metadata": {},
   "outputs": [],
   "source": [
    "#Tagging the data for training with Doc2Vec (data)\n",
    "tagged_data = [TaggedDocument(words = word_tokenize(_d.lower()), tags = [str(i)]) for i, _d in enumerate(data)]"
   ]
  },
  {
   "cell_type": "code",
   "execution_count": 272,
   "metadata": {},
   "outputs": [],
   "source": [
    "#Variables for control\n",
    "max_epochs = 100\n",
    "vec_size = 20\n",
    "alpha = 0.025\n",
    "\n",
    "#Doc2Vec model\n",
    "model = Doc2Vec(vector_size=vec_size,\n",
    "               alpha=alpha,\n",
    "               min_alpha = 0.00025,\n",
    "               min_count = 1,\n",
    "               dm = 1) #dm defines training algorithm. dm=1 means distributed memory and dm=0 means distributed\n",
    "                       #bag of words. Distributed Memory model preserves the word order and Bag of Words does not\n",
    "\n",
    "#Building model vocabulary based on training data\n",
    "model.build_vocab(tagged_list)"
   ]
  },
  {
   "cell_type": "code",
   "execution_count": 273,
   "metadata": {},
   "outputs": [
    {
     "name": "stdout",
     "output_type": "stream",
     "text": [
      "iteration 0\n",
      "iteration 1\n",
      "iteration 2\n",
      "iteration 3\n",
      "iteration 4\n",
      "iteration 5\n",
      "iteration 6\n",
      "iteration 7\n",
      "iteration 8\n",
      "iteration 9\n",
      "iteration 10\n",
      "iteration 11\n",
      "iteration 12\n",
      "iteration 13\n",
      "iteration 14\n",
      "iteration 15\n",
      "iteration 16\n",
      "iteration 17\n",
      "iteration 18\n",
      "iteration 19\n",
      "iteration 20\n",
      "iteration 21\n",
      "iteration 22\n",
      "iteration 23\n",
      "iteration 24\n",
      "iteration 25\n",
      "iteration 26\n",
      "iteration 27\n",
      "iteration 28\n",
      "iteration 29\n",
      "iteration 30\n"
     ]
    },
    {
     "name": "stderr",
     "output_type": "stream",
     "text": [
      "/Users/tylerlewris/opt/anaconda3/lib/python3.7/site-packages/ipykernel_launcher.py:6: DeprecationWarning: Call to deprecated `iter` (Attribute will be removed in 4.0.0, use self.epochs instead).\n",
      "  \n"
     ]
    },
    {
     "name": "stdout",
     "output_type": "stream",
     "text": [
      "iteration 31\n",
      "iteration 32\n",
      "iteration 33\n",
      "iteration 34\n",
      "iteration 35\n",
      "iteration 36\n",
      "iteration 37\n",
      "iteration 38\n",
      "iteration 39\n",
      "iteration 40\n",
      "iteration 41\n",
      "iteration 42\n",
      "iteration 43\n",
      "iteration 44\n",
      "iteration 45\n",
      "iteration 46\n",
      "iteration 47\n",
      "iteration 48\n",
      "iteration 49\n",
      "iteration 50\n",
      "iteration 51\n",
      "iteration 52\n",
      "iteration 53\n",
      "iteration 54\n",
      "iteration 55\n",
      "iteration 56\n",
      "iteration 57\n",
      "iteration 58\n",
      "iteration 59\n",
      "iteration 60\n",
      "iteration 61\n",
      "iteration 62\n",
      "iteration 63\n",
      "iteration 64\n",
      "iteration 65\n",
      "iteration 66\n",
      "iteration 67\n",
      "iteration 68\n",
      "iteration 69\n",
      "iteration 70\n",
      "iteration 71\n",
      "iteration 72\n",
      "iteration 73\n",
      "iteration 74\n",
      "iteration 75\n",
      "iteration 76\n",
      "iteration 77\n",
      "iteration 78\n",
      "iteration 79\n",
      "iteration 80\n",
      "iteration 81\n",
      "iteration 82\n",
      "iteration 83\n",
      "iteration 84\n",
      "iteration 85\n",
      "iteration 86\n",
      "iteration 87\n",
      "iteration 88\n",
      "iteration 89\n",
      "iteration 90\n",
      "iteration 91\n",
      "iteration 92\n",
      "iteration 93\n",
      "iteration 94\n",
      "iteration 95\n",
      "iteration 96\n",
      "iteration 97\n",
      "iteration 98\n",
      "iteration 99\n",
      "------------ \n",
      "Model Saved\n"
     ]
    }
   ],
   "source": [
    "#Training model\n",
    "for epoch in range(max_epochs):\n",
    "    print('iteration {}'.format(epoch))\n",
    "    model.train(tagged_list,\n",
    "               total_examples=model.corpus_count,\n",
    "                epochs=model.iter)\n",
    "    #decrease learning rate\n",
    "    model.alpha -= 0.0002\n",
    "    # fix the learning rate, no decay\n",
    "    model.min_alpha = model.alpha\n",
    "\n",
    "model.save('d2v_test.model')\n",
    "print('------------',\"\\nModel Saved\")\n",
    "#Notes: dm defines the training algorithm. dm=1"
   ]
  },
  {
   "cell_type": "markdown",
   "metadata": {},
   "source": [
    "Below we are loading the trained model and finding documents most similar to new data"
   ]
  },
  {
   "cell_type": "code",
   "execution_count": 307,
   "metadata": {},
   "outputs": [
    {
     "name": "stdout",
     "output_type": "stream",
     "text": [
      "Vector of document most similar to new data point: \n",
      " [ 0.00144816 -0.0220431   0.00230109 -0.00586921  0.00265618 -0.02065248\n",
      " -0.00486062 -0.01064788 -0.02447778 -0.0061126  -0.00162427  0.00177816\n",
      " -0.01270492 -0.00167742  0.02104566 -0.01411982  0.01155152  0.02064102\n",
      " -0.006814    0.01051914] \n",
      "\n",
      "Top Tag matches based on new data point: \n",
      " [('0', 0.37790510058403015), ('7', 0.37467435002326965), ('3', 0.37404441833496094), ('8', 0.36683574318885803), ('5', 0.36443600058555603), ('2', 0.36180442571640015), ('1', 0.35243597626686096), ('6', 0.3199179172515869), ('4', 0.3028177320957184)] \n",
      "\n",
      "Most similar document to tag 2: \n",
      " [('3', 0.9938420057296753), ('1', 0.987184464931488), ('4', 0.9862078428268433), ('0', 0.9850899577140808), ('5', 0.9813613295555115), ('6', 0.9791783094406128), ('8', 0.9777603149414062), ('7', 0.9705914258956909)] \n",
      "\n",
      "Vector of document from training data with tag = 1 \n",
      " [-0.18764363 -1.1816138   0.4524767   0.6221697  -0.4830281   0.07238834\n",
      "  0.00818319  0.41751418 -0.66492033 -0.26250795 -0.297247   -0.02000471\n",
      "  0.12076782 -0.4442174  -0.03263527 -0.48398942  0.29889095  0.28966048\n",
      "  0.37040356 -0.54740465]\n"
     ]
    }
   ],
   "source": [
    "# Loading the model\n",
    "model = Doc2Vec.load('d2v_test.model')\n",
    "\n",
    "#Find vector of a document most similar to new data point\n",
    "test_data = word_tokenize('I love chatbots so much'.lower())\n",
    "v1 = model.infer_vector(test_data)\n",
    "print('Vector of document most similar to new data point: \\n',\n",
    "      v1,'\\n')\n",
    "\n",
    "#Find top tag matches based on new data point\n",
    "new_vector = model.infer_vector(test_data)      #NOTE: must use infer_vector on new data point to retrieve sim tags\n",
    "sims = model.docvecs.most_similar([new_vector]) \n",
    "print('Top Tag matches based on new data point: \\n', sims,'\\n')\n",
    "\n",
    "#Find most similar document using tags\n",
    "similar_doc = model.docvecs.most_similar('2') #finding most similar document to tag = 1\n",
    "print('Most similar document to tag 2: \\n' , \n",
    "      similar_doc,'\\n')\n",
    "\n",
    "#To find vector of doc in training data using tags\n",
    "print('Vector of document from training data with tag = 1 \\n',\n",
    "      model.docvecs['1'])"
   ]
  },
  {
   "cell_type": "markdown",
   "metadata": {},
   "source": [
    "### LDA  <a id='lda' > </a>"
   ]
  },
  {
   "cell_type": "code",
   "execution_count": null,
   "metadata": {},
   "outputs": [],
   "source": [
    "# LDA is based on probabilistic graphical modeling. The algorithm takes a bag of words matrix as input, then\n",
    "# produces 2 smaller matrices; a document to topic matrix and a word to topic matrix that when multiplied together\n",
    "# reproduce the bag of words matrix with the lowest error."
   ]
  },
  {
   "cell_type": "code",
   "execution_count": 2,
   "metadata": {},
   "outputs": [],
   "source": [
    "#For this example, grabbing a large dataset from sklearn\n",
    "from sklearn.datasets import fetch_20newsgroups\n",
    "\n",
    "dataset = fetch_20newsgroups(shuffle=True, random_state=1, remove=('headers', 'footers', 'quotes'))\n",
    "documents = dataset.data"
   ]
  },
  {
   "cell_type": "markdown",
   "metadata": {},
   "source": [
    "#### Data Preprocessing"
   ]
  },
  {
   "cell_type": "code",
   "execution_count": 74,
   "metadata": {},
   "outputs": [],
   "source": [
    "# Convert to list\n",
    "#data = df.content.values.tolist()\n",
    "\n",
    "import re\n",
    "data = documents[:100]\n",
    "\n",
    "# Remove Emails\n",
    "data = [re.sub('\\S*@\\S*\\s?', '', sent) for sent in data]\n",
    "\n",
    "# Remove new line characters\n",
    "data = [re.sub('\\s+', ' ', sent) for sent in data]\n",
    "\n",
    "# Remove distracting single quotes\n",
    "data = [re.sub(\"\\'\", \"\", sent) for sent in data]"
   ]
  },
  {
   "cell_type": "code",
   "execution_count": 133,
   "metadata": {},
   "outputs": [],
   "source": [
    "from nltk.tokenize import sent_tokenize, word_tokenize\n",
    "from nltk.stem import PorterStemmer\n",
    "\n",
    "porter=PorterStemmer()\n",
    "\n",
    "def stemSentence(sentence):\n",
    "    token_words=word_tokenize(sentence)\n",
    "    token_words\n",
    "    stem_sentence=[]\n",
    "    for word in token_words:\n",
    "        stem_sentence.append(porter.stem(word))\n",
    "        stem_sentence.append(\" \")\n",
    "    return \"\".join(stem_sentence)"
   ]
  },
  {
   "cell_type": "code",
   "execution_count": 81,
   "metadata": {},
   "outputs": [],
   "source": [
    "stemmed_list = []\n",
    "for line in data:\n",
    "    stem_sentence=stemSentence(line)\n",
    "    stemmed_list.append(stem_sentence)"
   ]
  },
  {
   "cell_type": "code",
   "execution_count": 82,
   "metadata": {},
   "outputs": [],
   "source": [
    "from sklearn.feature_extraction.text import TfidfVectorizer, CountVectorizer\n",
    "\n",
    "#setting number of features = 1000\n",
    "num_features = 50000\n",
    "\n",
    "# NMF (Non Negative Matrix Factorization) is able to use tf-idf\n",
    "tfidf_vectorizer = TfidfVectorizer(max_df=0.95, min_df=2, max_features=num_features, stop_words='english')\n",
    "tfidf = tfidf_vectorizer.fit_transform(stemmed_list)\n",
    "tfidf_feature_names = tfidf_vectorizer.get_feature_names()\n",
    "\n",
    "# LDA can only use raw term counts for LDA\n",
    "tf_vectorizer = CountVectorizer(max_df=0.95, min_df=2, max_features=num_features, stop_words='english')\n",
    "tf = tf_vectorizer.fit_transform(stemmed_list)\n",
    "tf_feature_names = tf_vectorizer.get_feature_names()"
   ]
  },
  {
   "cell_type": "code",
   "execution_count": 103,
   "metadata": {},
   "outputs": [
    {
     "name": "stdout",
     "output_type": "stream",
     "text": [
      "Sparsicity:  3.870095902353967 %\n"
     ]
    }
   ],
   "source": [
    "# Materialize the sparse data\n",
    "data_dense = tf.todense()\n",
    "\n",
    "# Compute Sparsicity = Percentage of Non-Zero cells\n",
    "print(\"Sparsicity: \", ((data_dense > 0).sum()/data_dense.size)*100, \"%\")"
   ]
  },
  {
   "cell_type": "code",
   "execution_count": 83,
   "metadata": {},
   "outputs": [],
   "source": [
    "from sklearn.decomposition import NMF, LatentDirichletAllocation\n",
    "\n",
    "#number of topics\n",
    "num_topics = 10\n",
    "\n",
    "# Run NMF on tfidf vector (sparse matrix with all rows and 1000 columns)\n",
    "nmf = NMF(n_components=num_topics, random_state=1, alpha=.1, l1_ratio=.5, init='nndsvd').fit(tfidf)\n",
    "\n",
    "# Run LDA on tf vector (sparse matrix with all rows and 1000 columns)\n",
    "lda = LatentDirichletAllocation(n_components=num_topics, max_iter=5, learning_method='online', learning_offset=50.,random_state=0).fit(tf)\n"
   ]
  },
  {
   "cell_type": "code",
   "execution_count": 107,
   "metadata": {},
   "outputs": [
    {
     "data": {
      "text/plain": [
       "<bound method BaseEstimator.get_params of LatentDirichletAllocation(batch_size=128, doc_topic_prior=None,\n",
       "                          evaluate_every=-1, learning_decay=0.7,\n",
       "                          learning_method='online', learning_offset=50.0,\n",
       "                          max_doc_update_iter=100, max_iter=5,\n",
       "                          mean_change_tol=0.001, n_components=10, n_jobs=None,\n",
       "                          perp_tol=0.1, random_state=0, topic_word_prior=None,\n",
       "                          total_samples=1000000.0, verbose=0)>"
      ]
     },
     "execution_count": 107,
     "metadata": {},
     "output_type": "execute_result"
    }
   ],
   "source": [
    "# See model parameters\n",
    "lda.get_params"
   ]
  },
  {
   "cell_type": "code",
   "execution_count": 84,
   "metadata": {},
   "outputs": [
    {
     "name": "stdout",
     "output_type": "stream",
     "text": [
      "\n",
      "Topic 1:\n",
      "wa sin old initi stay mari wonder did somewher appear\n",
      "\n",
      "Topic 2:\n",
      "key chip session receiv phone possibl door messag encrypt user\n",
      "\n",
      "Topic 3:\n",
      "thi say like time exist ani use just know doe\n",
      "\n",
      "Topic 4:\n",
      "israel isra soldier death peac realiz polici occup report attack\n",
      "\n",
      "Topic 5:\n",
      "vram simm 256k slot board need distributor solder favorit expans\n",
      "\n",
      "Topic 6:\n",
      "memori song pointer 49 folk serv goe copi watch hr\n",
      "\n",
      "Topic 7:\n",
      "jim economi indic industri central strike market imagin govern control\n",
      "\n",
      "Topic 8:\n",
      "condit alot guid rid sell price 30 basebal want card\n",
      "\n",
      "Topic 9:\n",
      "cach card 32k simm set iisi gl vi uu doe\n",
      "\n",
      "Topic 10:\n",
      "game playoff pen lose shot regular season definit let rememb\n",
      "\n",
      "##################################\n",
      "\n",
      "\n",
      "Topic 1:\n",
      "mm wa bike metal littl time cours power ha turn\n",
      "\n",
      "Topic 2:\n",
      "confer paper applic need june run chip jim accept construct\n",
      "\n",
      "Topic 3:\n",
      "thi use govern time wa ani day peopl onli israel\n",
      "\n",
      "Topic 4:\n",
      "thi creation hole onli exist say ha vram moral forc\n",
      "\n",
      "Topic 5:\n",
      "work thi certain tri ha like ani tell time say\n",
      "\n",
      "Topic 6:\n",
      "power key wa port use door like hp ha just\n",
      "\n",
      "Topic 7:\n",
      "wa thi like say year just use know doe thing\n",
      "\n",
      "Topic 8:\n",
      "edu mail thi gm send imag 128 graphic file 3d\n",
      "\n",
      "Topic 9:\n",
      "cach thi dont card patch contact drive forc like ha\n",
      "\n",
      "Topic 10:\n",
      "effect phone number im activ tri govern sheep vs compar\n"
     ]
    }
   ],
   "source": [
    "# Display and Evaluate topics\n",
    "\n",
    "def display_topics(model, feature_names, no_top_words):\n",
    "    for topic_idx, topic in enumerate(model.components_):\n",
    "        print('\\nTopic %d:' % (topic_idx+1))\n",
    "        print( \" \".join([feature_names[i]\n",
    "                        for i in topic.argsort()[:-no_top_words - 1:-1]]))\n",
    "\n",
    "no_top_words = 10\n",
    "display_topics(nmf, tfidf_feature_names, no_top_words)\n",
    "print('\\n##################################\\n')\n",
    "display_topics(lda, tf_feature_names, no_top_words)"
   ]
  },
  {
   "cell_type": "code",
   "execution_count": 99,
   "metadata": {},
   "outputs": [
    {
     "name": "stdout",
     "output_type": "stream",
     "text": [
      "LDA Score: -66313.515067\n",
      "Perplexity Score:  3796.363975\n"
     ]
    }
   ],
   "source": [
    "lda_score = lda.score(tf)\n",
    "perplexity_score = lda.perplexity(tf)\n",
    "print(\"LDA Score: {a: 5f}\\nPerplexity Score: {b: 2f}\".format(a=lda.score(tf), b=lda.perplexity(tf)))"
   ]
  },
  {
   "cell_type": "markdown",
   "metadata": {},
   "source": [
    "### Grid Search Optimal Parameters for LDA"
   ]
  },
  {
   "cell_type": "code",
   "execution_count": 111,
   "metadata": {},
   "outputs": [
    {
     "name": "stderr",
     "output_type": "stream",
     "text": [
      "/Users/tylerlewris/opt/anaconda3/lib/python3.7/site-packages/sklearn/model_selection/_split.py:1978: FutureWarning: The default value of cv will change from 3 to 5 in version 0.22. Specify it explicitly to silence this warning.\n",
      "  warnings.warn(CV_WARNING, FutureWarning)\n",
      "/Users/tylerlewris/opt/anaconda3/lib/python3.7/site-packages/sklearn/model_selection/_search.py:814: DeprecationWarning: The default of the `iid` parameter will change from True to False in version 0.22 and will be removed in 0.24. This will change numeric results when test-set sizes are unequal.\n",
      "  DeprecationWarning)\n"
     ]
    },
    {
     "data": {
      "text/plain": [
       "GridSearchCV(cv='warn', error_score='raise-deprecating',\n",
       "             estimator=LatentDirichletAllocation(batch_size=128,\n",
       "                                                 doc_topic_prior=None,\n",
       "                                                 evaluate_every=-1,\n",
       "                                                 learning_decay=0.7,\n",
       "                                                 learning_method='batch',\n",
       "                                                 learning_offset=10.0,\n",
       "                                                 max_doc_update_iter=100,\n",
       "                                                 max_iter=10,\n",
       "                                                 mean_change_tol=0.001,\n",
       "                                                 n_components=10, n_jobs=None,\n",
       "                                                 perp_tol=0.1,\n",
       "                                                 random_state=None,\n",
       "                                                 topic_word_prior=None,\n",
       "                                                 total_samples=1000000.0,\n",
       "                                                 verbose=0),\n",
       "             iid='warn', n_jobs=None,\n",
       "             param_grid={'learning_decay': [0.5, 0.7, 0.9],\n",
       "                         'n_components': [10, 15, 20, 25, 30]},\n",
       "             pre_dispatch='2*n_jobs', refit=True, return_train_score=False,\n",
       "             scoring=None, verbose=0)"
      ]
     },
     "execution_count": 111,
     "metadata": {},
     "output_type": "execute_result"
    }
   ],
   "source": [
    "from sklearn.model_selection import GridSearchCV\n",
    "# Define Search Param\n",
    "search_params = {'n_components': [10, 15, 20, 25, 30], 'learning_decay': [.5, .7, .9]}\n",
    "\n",
    "# Init the Model\n",
    "lda = LatentDirichletAllocation()\n",
    "\n",
    "# Init Grid Search Class\n",
    "model = GridSearchCV(lda, param_grid=search_params)\n",
    "\n",
    "# Do the Grid Search\n",
    "model.fit(tf)"
   ]
  },
  {
   "cell_type": "code",
   "execution_count": null,
   "metadata": {},
   "outputs": [],
   "source": [
    "#This process is important but is not the end."
   ]
  },
  {
   "cell_type": "code",
   "execution_count": 113,
   "metadata": {},
   "outputs": [
    {
     "name": "stdout",
     "output_type": "stream",
     "text": [
      "Best Model's Params:  {'learning_decay': 0.7, 'n_components': 10}\n",
      "Best Log Likelihood Score:  -26762.41775589945\n",
      "Model Perplexity:  826.1579830686579\n"
     ]
    }
   ],
   "source": [
    "### Best Topic Model and its Parameters\n",
    "\n",
    "# Best Model\n",
    "best_lda_model = model.best_estimator_\n",
    "\n",
    "# Model Parameters\n",
    "print(\"Best Model's Params: \", model.best_params_)\n",
    "\n",
    "# Log Likelihood Score\n",
    "print(\"Best Log Likelihood Score: \", model.best_score_)\n",
    "\n",
    "# Perplexity\n",
    "print(\"Model Perplexity: \", best_lda_model.perplexity(tf))"
   ]
  },
  {
   "cell_type": "code",
   "execution_count": 119,
   "metadata": {},
   "outputs": [],
   "source": [
    "import pandas as pd\n",
    "import numpy as np"
   ]
  },
  {
   "cell_type": "code",
   "execution_count": 120,
   "metadata": {},
   "outputs": [
    {
     "data": {
      "text/html": [
       "<style  type=\"text/css\" >\n",
       "    #T_4b817e9a_7838_11ea_a46c_acde48001122row0_col0 {\n",
       "            color:  black;\n",
       "            font-weight:  400;\n",
       "        }    #T_4b817e9a_7838_11ea_a46c_acde48001122row0_col1 {\n",
       "            color:  black;\n",
       "            font-weight:  400;\n",
       "        }    #T_4b817e9a_7838_11ea_a46c_acde48001122row0_col2 {\n",
       "            color:  green;\n",
       "            font-weight:  700;\n",
       "        }    #T_4b817e9a_7838_11ea_a46c_acde48001122row0_col3 {\n",
       "            color:  black;\n",
       "            font-weight:  400;\n",
       "        }    #T_4b817e9a_7838_11ea_a46c_acde48001122row0_col4 {\n",
       "            color:  green;\n",
       "            font-weight:  700;\n",
       "        }    #T_4b817e9a_7838_11ea_a46c_acde48001122row0_col5 {\n",
       "            color:  black;\n",
       "            font-weight:  400;\n",
       "        }    #T_4b817e9a_7838_11ea_a46c_acde48001122row0_col6 {\n",
       "            color:  black;\n",
       "            font-weight:  400;\n",
       "        }    #T_4b817e9a_7838_11ea_a46c_acde48001122row0_col7 {\n",
       "            color:  green;\n",
       "            font-weight:  700;\n",
       "        }    #T_4b817e9a_7838_11ea_a46c_acde48001122row0_col8 {\n",
       "            color:  black;\n",
       "            font-weight:  400;\n",
       "        }    #T_4b817e9a_7838_11ea_a46c_acde48001122row0_col9 {\n",
       "            color:  green;\n",
       "            font-weight:  700;\n",
       "        }    #T_4b817e9a_7838_11ea_a46c_acde48001122row0_col10 {\n",
       "            color:  green;\n",
       "            font-weight:  700;\n",
       "        }    #T_4b817e9a_7838_11ea_a46c_acde48001122row1_col0 {\n",
       "            color:  black;\n",
       "            font-weight:  400;\n",
       "        }    #T_4b817e9a_7838_11ea_a46c_acde48001122row1_col1 {\n",
       "            color:  black;\n",
       "            font-weight:  400;\n",
       "        }    #T_4b817e9a_7838_11ea_a46c_acde48001122row1_col2 {\n",
       "            color:  black;\n",
       "            font-weight:  400;\n",
       "        }    #T_4b817e9a_7838_11ea_a46c_acde48001122row1_col3 {\n",
       "            color:  black;\n",
       "            font-weight:  400;\n",
       "        }    #T_4b817e9a_7838_11ea_a46c_acde48001122row1_col4 {\n",
       "            color:  black;\n",
       "            font-weight:  400;\n",
       "        }    #T_4b817e9a_7838_11ea_a46c_acde48001122row1_col5 {\n",
       "            color:  black;\n",
       "            font-weight:  400;\n",
       "        }    #T_4b817e9a_7838_11ea_a46c_acde48001122row1_col6 {\n",
       "            color:  black;\n",
       "            font-weight:  400;\n",
       "        }    #T_4b817e9a_7838_11ea_a46c_acde48001122row1_col7 {\n",
       "            color:  green;\n",
       "            font-weight:  700;\n",
       "        }    #T_4b817e9a_7838_11ea_a46c_acde48001122row1_col8 {\n",
       "            color:  black;\n",
       "            font-weight:  400;\n",
       "        }    #T_4b817e9a_7838_11ea_a46c_acde48001122row1_col9 {\n",
       "            color:  black;\n",
       "            font-weight:  400;\n",
       "        }    #T_4b817e9a_7838_11ea_a46c_acde48001122row1_col10 {\n",
       "            color:  green;\n",
       "            font-weight:  700;\n",
       "        }    #T_4b817e9a_7838_11ea_a46c_acde48001122row2_col0 {\n",
       "            color:  black;\n",
       "            font-weight:  400;\n",
       "        }    #T_4b817e9a_7838_11ea_a46c_acde48001122row2_col1 {\n",
       "            color:  black;\n",
       "            font-weight:  400;\n",
       "        }    #T_4b817e9a_7838_11ea_a46c_acde48001122row2_col2 {\n",
       "            color:  black;\n",
       "            font-weight:  400;\n",
       "        }    #T_4b817e9a_7838_11ea_a46c_acde48001122row2_col3 {\n",
       "            color:  black;\n",
       "            font-weight:  400;\n",
       "        }    #T_4b817e9a_7838_11ea_a46c_acde48001122row2_col4 {\n",
       "            color:  black;\n",
       "            font-weight:  400;\n",
       "        }    #T_4b817e9a_7838_11ea_a46c_acde48001122row2_col5 {\n",
       "            color:  black;\n",
       "            font-weight:  400;\n",
       "        }    #T_4b817e9a_7838_11ea_a46c_acde48001122row2_col6 {\n",
       "            color:  green;\n",
       "            font-weight:  700;\n",
       "        }    #T_4b817e9a_7838_11ea_a46c_acde48001122row2_col7 {\n",
       "            color:  black;\n",
       "            font-weight:  400;\n",
       "        }    #T_4b817e9a_7838_11ea_a46c_acde48001122row2_col8 {\n",
       "            color:  black;\n",
       "            font-weight:  400;\n",
       "        }    #T_4b817e9a_7838_11ea_a46c_acde48001122row2_col9 {\n",
       "            color:  black;\n",
       "            font-weight:  400;\n",
       "        }    #T_4b817e9a_7838_11ea_a46c_acde48001122row2_col10 {\n",
       "            color:  green;\n",
       "            font-weight:  700;\n",
       "        }    #T_4b817e9a_7838_11ea_a46c_acde48001122row3_col0 {\n",
       "            color:  black;\n",
       "            font-weight:  400;\n",
       "        }    #T_4b817e9a_7838_11ea_a46c_acde48001122row3_col1 {\n",
       "            color:  black;\n",
       "            font-weight:  400;\n",
       "        }    #T_4b817e9a_7838_11ea_a46c_acde48001122row3_col2 {\n",
       "            color:  black;\n",
       "            font-weight:  400;\n",
       "        }    #T_4b817e9a_7838_11ea_a46c_acde48001122row3_col3 {\n",
       "            color:  green;\n",
       "            font-weight:  700;\n",
       "        }    #T_4b817e9a_7838_11ea_a46c_acde48001122row3_col4 {\n",
       "            color:  black;\n",
       "            font-weight:  400;\n",
       "        }    #T_4b817e9a_7838_11ea_a46c_acde48001122row3_col5 {\n",
       "            color:  black;\n",
       "            font-weight:  400;\n",
       "        }    #T_4b817e9a_7838_11ea_a46c_acde48001122row3_col6 {\n",
       "            color:  green;\n",
       "            font-weight:  700;\n",
       "        }    #T_4b817e9a_7838_11ea_a46c_acde48001122row3_col7 {\n",
       "            color:  green;\n",
       "            font-weight:  700;\n",
       "        }    #T_4b817e9a_7838_11ea_a46c_acde48001122row3_col8 {\n",
       "            color:  black;\n",
       "            font-weight:  400;\n",
       "        }    #T_4b817e9a_7838_11ea_a46c_acde48001122row3_col9 {\n",
       "            color:  black;\n",
       "            font-weight:  400;\n",
       "        }    #T_4b817e9a_7838_11ea_a46c_acde48001122row3_col10 {\n",
       "            color:  green;\n",
       "            font-weight:  700;\n",
       "        }    #T_4b817e9a_7838_11ea_a46c_acde48001122row4_col0 {\n",
       "            color:  green;\n",
       "            font-weight:  700;\n",
       "        }    #T_4b817e9a_7838_11ea_a46c_acde48001122row4_col1 {\n",
       "            color:  black;\n",
       "            font-weight:  400;\n",
       "        }    #T_4b817e9a_7838_11ea_a46c_acde48001122row4_col2 {\n",
       "            color:  black;\n",
       "            font-weight:  400;\n",
       "        }    #T_4b817e9a_7838_11ea_a46c_acde48001122row4_col3 {\n",
       "            color:  black;\n",
       "            font-weight:  400;\n",
       "        }    #T_4b817e9a_7838_11ea_a46c_acde48001122row4_col4 {\n",
       "            color:  black;\n",
       "            font-weight:  400;\n",
       "        }    #T_4b817e9a_7838_11ea_a46c_acde48001122row4_col5 {\n",
       "            color:  black;\n",
       "            font-weight:  400;\n",
       "        }    #T_4b817e9a_7838_11ea_a46c_acde48001122row4_col6 {\n",
       "            color:  black;\n",
       "            font-weight:  400;\n",
       "        }    #T_4b817e9a_7838_11ea_a46c_acde48001122row4_col7 {\n",
       "            color:  black;\n",
       "            font-weight:  400;\n",
       "        }    #T_4b817e9a_7838_11ea_a46c_acde48001122row4_col8 {\n",
       "            color:  black;\n",
       "            font-weight:  400;\n",
       "        }    #T_4b817e9a_7838_11ea_a46c_acde48001122row4_col9 {\n",
       "            color:  black;\n",
       "            font-weight:  400;\n",
       "        }    #T_4b817e9a_7838_11ea_a46c_acde48001122row4_col10 {\n",
       "            color:  black;\n",
       "            font-weight:  400;\n",
       "        }    #T_4b817e9a_7838_11ea_a46c_acde48001122row5_col0 {\n",
       "            color:  black;\n",
       "            font-weight:  400;\n",
       "        }    #T_4b817e9a_7838_11ea_a46c_acde48001122row5_col1 {\n",
       "            color:  black;\n",
       "            font-weight:  400;\n",
       "        }    #T_4b817e9a_7838_11ea_a46c_acde48001122row5_col2 {\n",
       "            color:  black;\n",
       "            font-weight:  400;\n",
       "        }    #T_4b817e9a_7838_11ea_a46c_acde48001122row5_col3 {\n",
       "            color:  black;\n",
       "            font-weight:  400;\n",
       "        }    #T_4b817e9a_7838_11ea_a46c_acde48001122row5_col4 {\n",
       "            color:  green;\n",
       "            font-weight:  700;\n",
       "        }    #T_4b817e9a_7838_11ea_a46c_acde48001122row5_col5 {\n",
       "            color:  black;\n",
       "            font-weight:  400;\n",
       "        }    #T_4b817e9a_7838_11ea_a46c_acde48001122row5_col6 {\n",
       "            color:  black;\n",
       "            font-weight:  400;\n",
       "        }    #T_4b817e9a_7838_11ea_a46c_acde48001122row5_col7 {\n",
       "            color:  black;\n",
       "            font-weight:  400;\n",
       "        }    #T_4b817e9a_7838_11ea_a46c_acde48001122row5_col8 {\n",
       "            color:  black;\n",
       "            font-weight:  400;\n",
       "        }    #T_4b817e9a_7838_11ea_a46c_acde48001122row5_col9 {\n",
       "            color:  black;\n",
       "            font-weight:  400;\n",
       "        }    #T_4b817e9a_7838_11ea_a46c_acde48001122row5_col10 {\n",
       "            color:  green;\n",
       "            font-weight:  700;\n",
       "        }    #T_4b817e9a_7838_11ea_a46c_acde48001122row6_col0 {\n",
       "            color:  black;\n",
       "            font-weight:  400;\n",
       "        }    #T_4b817e9a_7838_11ea_a46c_acde48001122row6_col1 {\n",
       "            color:  black;\n",
       "            font-weight:  400;\n",
       "        }    #T_4b817e9a_7838_11ea_a46c_acde48001122row6_col2 {\n",
       "            color:  black;\n",
       "            font-weight:  400;\n",
       "        }    #T_4b817e9a_7838_11ea_a46c_acde48001122row6_col3 {\n",
       "            color:  black;\n",
       "            font-weight:  400;\n",
       "        }    #T_4b817e9a_7838_11ea_a46c_acde48001122row6_col4 {\n",
       "            color:  black;\n",
       "            font-weight:  400;\n",
       "        }    #T_4b817e9a_7838_11ea_a46c_acde48001122row6_col5 {\n",
       "            color:  black;\n",
       "            font-weight:  400;\n",
       "        }    #T_4b817e9a_7838_11ea_a46c_acde48001122row6_col6 {\n",
       "            color:  black;\n",
       "            font-weight:  400;\n",
       "        }    #T_4b817e9a_7838_11ea_a46c_acde48001122row6_col7 {\n",
       "            color:  green;\n",
       "            font-weight:  700;\n",
       "        }    #T_4b817e9a_7838_11ea_a46c_acde48001122row6_col8 {\n",
       "            color:  black;\n",
       "            font-weight:  400;\n",
       "        }    #T_4b817e9a_7838_11ea_a46c_acde48001122row6_col9 {\n",
       "            color:  black;\n",
       "            font-weight:  400;\n",
       "        }    #T_4b817e9a_7838_11ea_a46c_acde48001122row6_col10 {\n",
       "            color:  green;\n",
       "            font-weight:  700;\n",
       "        }    #T_4b817e9a_7838_11ea_a46c_acde48001122row7_col0 {\n",
       "            color:  black;\n",
       "            font-weight:  400;\n",
       "        }    #T_4b817e9a_7838_11ea_a46c_acde48001122row7_col1 {\n",
       "            color:  black;\n",
       "            font-weight:  400;\n",
       "        }    #T_4b817e9a_7838_11ea_a46c_acde48001122row7_col2 {\n",
       "            color:  green;\n",
       "            font-weight:  700;\n",
       "        }    #T_4b817e9a_7838_11ea_a46c_acde48001122row7_col3 {\n",
       "            color:  black;\n",
       "            font-weight:  400;\n",
       "        }    #T_4b817e9a_7838_11ea_a46c_acde48001122row7_col4 {\n",
       "            color:  black;\n",
       "            font-weight:  400;\n",
       "        }    #T_4b817e9a_7838_11ea_a46c_acde48001122row7_col5 {\n",
       "            color:  black;\n",
       "            font-weight:  400;\n",
       "        }    #T_4b817e9a_7838_11ea_a46c_acde48001122row7_col6 {\n",
       "            color:  black;\n",
       "            font-weight:  400;\n",
       "        }    #T_4b817e9a_7838_11ea_a46c_acde48001122row7_col7 {\n",
       "            color:  green;\n",
       "            font-weight:  700;\n",
       "        }    #T_4b817e9a_7838_11ea_a46c_acde48001122row7_col8 {\n",
       "            color:  green;\n",
       "            font-weight:  700;\n",
       "        }    #T_4b817e9a_7838_11ea_a46c_acde48001122row7_col9 {\n",
       "            color:  black;\n",
       "            font-weight:  400;\n",
       "        }    #T_4b817e9a_7838_11ea_a46c_acde48001122row7_col10 {\n",
       "            color:  green;\n",
       "            font-weight:  700;\n",
       "        }    #T_4b817e9a_7838_11ea_a46c_acde48001122row8_col0 {\n",
       "            color:  black;\n",
       "            font-weight:  400;\n",
       "        }    #T_4b817e9a_7838_11ea_a46c_acde48001122row8_col1 {\n",
       "            color:  black;\n",
       "            font-weight:  400;\n",
       "        }    #T_4b817e9a_7838_11ea_a46c_acde48001122row8_col2 {\n",
       "            color:  black;\n",
       "            font-weight:  400;\n",
       "        }    #T_4b817e9a_7838_11ea_a46c_acde48001122row8_col3 {\n",
       "            color:  black;\n",
       "            font-weight:  400;\n",
       "        }    #T_4b817e9a_7838_11ea_a46c_acde48001122row8_col4 {\n",
       "            color:  black;\n",
       "            font-weight:  400;\n",
       "        }    #T_4b817e9a_7838_11ea_a46c_acde48001122row8_col5 {\n",
       "            color:  black;\n",
       "            font-weight:  400;\n",
       "        }    #T_4b817e9a_7838_11ea_a46c_acde48001122row8_col6 {\n",
       "            color:  black;\n",
       "            font-weight:  400;\n",
       "        }    #T_4b817e9a_7838_11ea_a46c_acde48001122row8_col7 {\n",
       "            color:  black;\n",
       "            font-weight:  400;\n",
       "        }    #T_4b817e9a_7838_11ea_a46c_acde48001122row8_col8 {\n",
       "            color:  black;\n",
       "            font-weight:  400;\n",
       "        }    #T_4b817e9a_7838_11ea_a46c_acde48001122row8_col9 {\n",
       "            color:  green;\n",
       "            font-weight:  700;\n",
       "        }    #T_4b817e9a_7838_11ea_a46c_acde48001122row8_col10 {\n",
       "            color:  green;\n",
       "            font-weight:  700;\n",
       "        }    #T_4b817e9a_7838_11ea_a46c_acde48001122row9_col0 {\n",
       "            color:  green;\n",
       "            font-weight:  700;\n",
       "        }    #T_4b817e9a_7838_11ea_a46c_acde48001122row9_col1 {\n",
       "            color:  black;\n",
       "            font-weight:  400;\n",
       "        }    #T_4b817e9a_7838_11ea_a46c_acde48001122row9_col2 {\n",
       "            color:  black;\n",
       "            font-weight:  400;\n",
       "        }    #T_4b817e9a_7838_11ea_a46c_acde48001122row9_col3 {\n",
       "            color:  black;\n",
       "            font-weight:  400;\n",
       "        }    #T_4b817e9a_7838_11ea_a46c_acde48001122row9_col4 {\n",
       "            color:  black;\n",
       "            font-weight:  400;\n",
       "        }    #T_4b817e9a_7838_11ea_a46c_acde48001122row9_col5 {\n",
       "            color:  black;\n",
       "            font-weight:  400;\n",
       "        }    #T_4b817e9a_7838_11ea_a46c_acde48001122row9_col6 {\n",
       "            color:  black;\n",
       "            font-weight:  400;\n",
       "        }    #T_4b817e9a_7838_11ea_a46c_acde48001122row9_col7 {\n",
       "            color:  black;\n",
       "            font-weight:  400;\n",
       "        }    #T_4b817e9a_7838_11ea_a46c_acde48001122row9_col8 {\n",
       "            color:  black;\n",
       "            font-weight:  400;\n",
       "        }    #T_4b817e9a_7838_11ea_a46c_acde48001122row9_col9 {\n",
       "            color:  black;\n",
       "            font-weight:  400;\n",
       "        }    #T_4b817e9a_7838_11ea_a46c_acde48001122row9_col10 {\n",
       "            color:  black;\n",
       "            font-weight:  400;\n",
       "        }    #T_4b817e9a_7838_11ea_a46c_acde48001122row10_col0 {\n",
       "            color:  black;\n",
       "            font-weight:  400;\n",
       "        }    #T_4b817e9a_7838_11ea_a46c_acde48001122row10_col1 {\n",
       "            color:  black;\n",
       "            font-weight:  400;\n",
       "        }    #T_4b817e9a_7838_11ea_a46c_acde48001122row10_col2 {\n",
       "            color:  black;\n",
       "            font-weight:  400;\n",
       "        }    #T_4b817e9a_7838_11ea_a46c_acde48001122row10_col3 {\n",
       "            color:  green;\n",
       "            font-weight:  700;\n",
       "        }    #T_4b817e9a_7838_11ea_a46c_acde48001122row10_col4 {\n",
       "            color:  black;\n",
       "            font-weight:  400;\n",
       "        }    #T_4b817e9a_7838_11ea_a46c_acde48001122row10_col5 {\n",
       "            color:  black;\n",
       "            font-weight:  400;\n",
       "        }    #T_4b817e9a_7838_11ea_a46c_acde48001122row10_col6 {\n",
       "            color:  black;\n",
       "            font-weight:  400;\n",
       "        }    #T_4b817e9a_7838_11ea_a46c_acde48001122row10_col7 {\n",
       "            color:  black;\n",
       "            font-weight:  400;\n",
       "        }    #T_4b817e9a_7838_11ea_a46c_acde48001122row10_col8 {\n",
       "            color:  black;\n",
       "            font-weight:  400;\n",
       "        }    #T_4b817e9a_7838_11ea_a46c_acde48001122row10_col9 {\n",
       "            color:  black;\n",
       "            font-weight:  400;\n",
       "        }    #T_4b817e9a_7838_11ea_a46c_acde48001122row10_col10 {\n",
       "            color:  green;\n",
       "            font-weight:  700;\n",
       "        }    #T_4b817e9a_7838_11ea_a46c_acde48001122row11_col0 {\n",
       "            color:  black;\n",
       "            font-weight:  400;\n",
       "        }    #T_4b817e9a_7838_11ea_a46c_acde48001122row11_col1 {\n",
       "            color:  black;\n",
       "            font-weight:  400;\n",
       "        }    #T_4b817e9a_7838_11ea_a46c_acde48001122row11_col2 {\n",
       "            color:  black;\n",
       "            font-weight:  400;\n",
       "        }    #T_4b817e9a_7838_11ea_a46c_acde48001122row11_col3 {\n",
       "            color:  black;\n",
       "            font-weight:  400;\n",
       "        }    #T_4b817e9a_7838_11ea_a46c_acde48001122row11_col4 {\n",
       "            color:  black;\n",
       "            font-weight:  400;\n",
       "        }    #T_4b817e9a_7838_11ea_a46c_acde48001122row11_col5 {\n",
       "            color:  black;\n",
       "            font-weight:  400;\n",
       "        }    #T_4b817e9a_7838_11ea_a46c_acde48001122row11_col6 {\n",
       "            color:  black;\n",
       "            font-weight:  400;\n",
       "        }    #T_4b817e9a_7838_11ea_a46c_acde48001122row11_col7 {\n",
       "            color:  green;\n",
       "            font-weight:  700;\n",
       "        }    #T_4b817e9a_7838_11ea_a46c_acde48001122row11_col8 {\n",
       "            color:  black;\n",
       "            font-weight:  400;\n",
       "        }    #T_4b817e9a_7838_11ea_a46c_acde48001122row11_col9 {\n",
       "            color:  black;\n",
       "            font-weight:  400;\n",
       "        }    #T_4b817e9a_7838_11ea_a46c_acde48001122row11_col10 {\n",
       "            color:  green;\n",
       "            font-weight:  700;\n",
       "        }    #T_4b817e9a_7838_11ea_a46c_acde48001122row12_col0 {\n",
       "            color:  black;\n",
       "            font-weight:  400;\n",
       "        }    #T_4b817e9a_7838_11ea_a46c_acde48001122row12_col1 {\n",
       "            color:  black;\n",
       "            font-weight:  400;\n",
       "        }    #T_4b817e9a_7838_11ea_a46c_acde48001122row12_col2 {\n",
       "            color:  green;\n",
       "            font-weight:  700;\n",
       "        }    #T_4b817e9a_7838_11ea_a46c_acde48001122row12_col3 {\n",
       "            color:  black;\n",
       "            font-weight:  400;\n",
       "        }    #T_4b817e9a_7838_11ea_a46c_acde48001122row12_col4 {\n",
       "            color:  black;\n",
       "            font-weight:  400;\n",
       "        }    #T_4b817e9a_7838_11ea_a46c_acde48001122row12_col5 {\n",
       "            color:  black;\n",
       "            font-weight:  400;\n",
       "        }    #T_4b817e9a_7838_11ea_a46c_acde48001122row12_col6 {\n",
       "            color:  black;\n",
       "            font-weight:  400;\n",
       "        }    #T_4b817e9a_7838_11ea_a46c_acde48001122row12_col7 {\n",
       "            color:  black;\n",
       "            font-weight:  400;\n",
       "        }    #T_4b817e9a_7838_11ea_a46c_acde48001122row12_col8 {\n",
       "            color:  black;\n",
       "            font-weight:  400;\n",
       "        }    #T_4b817e9a_7838_11ea_a46c_acde48001122row12_col9 {\n",
       "            color:  black;\n",
       "            font-weight:  400;\n",
       "        }    #T_4b817e9a_7838_11ea_a46c_acde48001122row12_col10 {\n",
       "            color:  green;\n",
       "            font-weight:  700;\n",
       "        }    #T_4b817e9a_7838_11ea_a46c_acde48001122row13_col0 {\n",
       "            color:  black;\n",
       "            font-weight:  400;\n",
       "        }    #T_4b817e9a_7838_11ea_a46c_acde48001122row13_col1 {\n",
       "            color:  black;\n",
       "            font-weight:  400;\n",
       "        }    #T_4b817e9a_7838_11ea_a46c_acde48001122row13_col2 {\n",
       "            color:  black;\n",
       "            font-weight:  400;\n",
       "        }    #T_4b817e9a_7838_11ea_a46c_acde48001122row13_col3 {\n",
       "            color:  black;\n",
       "            font-weight:  400;\n",
       "        }    #T_4b817e9a_7838_11ea_a46c_acde48001122row13_col4 {\n",
       "            color:  green;\n",
       "            font-weight:  700;\n",
       "        }    #T_4b817e9a_7838_11ea_a46c_acde48001122row13_col5 {\n",
       "            color:  black;\n",
       "            font-weight:  400;\n",
       "        }    #T_4b817e9a_7838_11ea_a46c_acde48001122row13_col6 {\n",
       "            color:  black;\n",
       "            font-weight:  400;\n",
       "        }    #T_4b817e9a_7838_11ea_a46c_acde48001122row13_col7 {\n",
       "            color:  black;\n",
       "            font-weight:  400;\n",
       "        }    #T_4b817e9a_7838_11ea_a46c_acde48001122row13_col8 {\n",
       "            color:  black;\n",
       "            font-weight:  400;\n",
       "        }    #T_4b817e9a_7838_11ea_a46c_acde48001122row13_col9 {\n",
       "            color:  black;\n",
       "            font-weight:  400;\n",
       "        }    #T_4b817e9a_7838_11ea_a46c_acde48001122row13_col10 {\n",
       "            color:  green;\n",
       "            font-weight:  700;\n",
       "        }    #T_4b817e9a_7838_11ea_a46c_acde48001122row14_col0 {\n",
       "            color:  black;\n",
       "            font-weight:  400;\n",
       "        }    #T_4b817e9a_7838_11ea_a46c_acde48001122row14_col1 {\n",
       "            color:  black;\n",
       "            font-weight:  400;\n",
       "        }    #T_4b817e9a_7838_11ea_a46c_acde48001122row14_col2 {\n",
       "            color:  black;\n",
       "            font-weight:  400;\n",
       "        }    #T_4b817e9a_7838_11ea_a46c_acde48001122row14_col3 {\n",
       "            color:  green;\n",
       "            font-weight:  700;\n",
       "        }    #T_4b817e9a_7838_11ea_a46c_acde48001122row14_col4 {\n",
       "            color:  black;\n",
       "            font-weight:  400;\n",
       "        }    #T_4b817e9a_7838_11ea_a46c_acde48001122row14_col5 {\n",
       "            color:  black;\n",
       "            font-weight:  400;\n",
       "        }    #T_4b817e9a_7838_11ea_a46c_acde48001122row14_col6 {\n",
       "            color:  black;\n",
       "            font-weight:  400;\n",
       "        }    #T_4b817e9a_7838_11ea_a46c_acde48001122row14_col7 {\n",
       "            color:  black;\n",
       "            font-weight:  400;\n",
       "        }    #T_4b817e9a_7838_11ea_a46c_acde48001122row14_col8 {\n",
       "            color:  green;\n",
       "            font-weight:  700;\n",
       "        }    #T_4b817e9a_7838_11ea_a46c_acde48001122row14_col9 {\n",
       "            color:  black;\n",
       "            font-weight:  400;\n",
       "        }    #T_4b817e9a_7838_11ea_a46c_acde48001122row14_col10 {\n",
       "            color:  green;\n",
       "            font-weight:  700;\n",
       "        }</style><table id=\"T_4b817e9a_7838_11ea_a46c_acde48001122\" ><thead>    <tr>        <th class=\"blank level0\" ></th>        <th class=\"col_heading level0 col0\" >Topic0</th>        <th class=\"col_heading level0 col1\" >Topic1</th>        <th class=\"col_heading level0 col2\" >Topic2</th>        <th class=\"col_heading level0 col3\" >Topic3</th>        <th class=\"col_heading level0 col4\" >Topic4</th>        <th class=\"col_heading level0 col5\" >Topic5</th>        <th class=\"col_heading level0 col6\" >Topic6</th>        <th class=\"col_heading level0 col7\" >Topic7</th>        <th class=\"col_heading level0 col8\" >Topic8</th>        <th class=\"col_heading level0 col9\" >Topic9</th>        <th class=\"col_heading level0 col10\" >dominant_topic</th>    </tr></thead><tbody>\n",
       "                <tr>\n",
       "                        <th id=\"T_4b817e9a_7838_11ea_a46c_acde48001122level0_row0\" class=\"row_heading level0 row0\" >Doc0</th>\n",
       "                        <td id=\"T_4b817e9a_7838_11ea_a46c_acde48001122row0_col0\" class=\"data row0 col0\" >0</td>\n",
       "                        <td id=\"T_4b817e9a_7838_11ea_a46c_acde48001122row0_col1\" class=\"data row0 col1\" >0</td>\n",
       "                        <td id=\"T_4b817e9a_7838_11ea_a46c_acde48001122row0_col2\" class=\"data row0 col2\" >0.17</td>\n",
       "                        <td id=\"T_4b817e9a_7838_11ea_a46c_acde48001122row0_col3\" class=\"data row0 col3\" >0.1</td>\n",
       "                        <td id=\"T_4b817e9a_7838_11ea_a46c_acde48001122row0_col4\" class=\"data row0 col4\" >0.14</td>\n",
       "                        <td id=\"T_4b817e9a_7838_11ea_a46c_acde48001122row0_col5\" class=\"data row0 col5\" >0</td>\n",
       "                        <td id=\"T_4b817e9a_7838_11ea_a46c_acde48001122row0_col6\" class=\"data row0 col6\" >0</td>\n",
       "                        <td id=\"T_4b817e9a_7838_11ea_a46c_acde48001122row0_col7\" class=\"data row0 col7\" >0.48</td>\n",
       "                        <td id=\"T_4b817e9a_7838_11ea_a46c_acde48001122row0_col8\" class=\"data row0 col8\" >0</td>\n",
       "                        <td id=\"T_4b817e9a_7838_11ea_a46c_acde48001122row0_col9\" class=\"data row0 col9\" >0.11</td>\n",
       "                        <td id=\"T_4b817e9a_7838_11ea_a46c_acde48001122row0_col10\" class=\"data row0 col10\" >7</td>\n",
       "            </tr>\n",
       "            <tr>\n",
       "                        <th id=\"T_4b817e9a_7838_11ea_a46c_acde48001122level0_row1\" class=\"row_heading level0 row1\" >Doc1</th>\n",
       "                        <td id=\"T_4b817e9a_7838_11ea_a46c_acde48001122row1_col0\" class=\"data row1 col0\" >0</td>\n",
       "                        <td id=\"T_4b817e9a_7838_11ea_a46c_acde48001122row1_col1\" class=\"data row1 col1\" >0</td>\n",
       "                        <td id=\"T_4b817e9a_7838_11ea_a46c_acde48001122row1_col2\" class=\"data row1 col2\" >0</td>\n",
       "                        <td id=\"T_4b817e9a_7838_11ea_a46c_acde48001122row1_col3\" class=\"data row1 col3\" >0</td>\n",
       "                        <td id=\"T_4b817e9a_7838_11ea_a46c_acde48001122row1_col4\" class=\"data row1 col4\" >0</td>\n",
       "                        <td id=\"T_4b817e9a_7838_11ea_a46c_acde48001122row1_col5\" class=\"data row1 col5\" >0</td>\n",
       "                        <td id=\"T_4b817e9a_7838_11ea_a46c_acde48001122row1_col6\" class=\"data row1 col6\" >0</td>\n",
       "                        <td id=\"T_4b817e9a_7838_11ea_a46c_acde48001122row1_col7\" class=\"data row1 col7\" >0.98</td>\n",
       "                        <td id=\"T_4b817e9a_7838_11ea_a46c_acde48001122row1_col8\" class=\"data row1 col8\" >0</td>\n",
       "                        <td id=\"T_4b817e9a_7838_11ea_a46c_acde48001122row1_col9\" class=\"data row1 col9\" >0</td>\n",
       "                        <td id=\"T_4b817e9a_7838_11ea_a46c_acde48001122row1_col10\" class=\"data row1 col10\" >7</td>\n",
       "            </tr>\n",
       "            <tr>\n",
       "                        <th id=\"T_4b817e9a_7838_11ea_a46c_acde48001122level0_row2\" class=\"row_heading level0 row2\" >Doc2</th>\n",
       "                        <td id=\"T_4b817e9a_7838_11ea_a46c_acde48001122row2_col0\" class=\"data row2 col0\" >0</td>\n",
       "                        <td id=\"T_4b817e9a_7838_11ea_a46c_acde48001122row2_col1\" class=\"data row2 col1\" >0</td>\n",
       "                        <td id=\"T_4b817e9a_7838_11ea_a46c_acde48001122row2_col2\" class=\"data row2 col2\" >0</td>\n",
       "                        <td id=\"T_4b817e9a_7838_11ea_a46c_acde48001122row2_col3\" class=\"data row2 col3\" >0</td>\n",
       "                        <td id=\"T_4b817e9a_7838_11ea_a46c_acde48001122row2_col4\" class=\"data row2 col4\" >0</td>\n",
       "                        <td id=\"T_4b817e9a_7838_11ea_a46c_acde48001122row2_col5\" class=\"data row2 col5\" >0</td>\n",
       "                        <td id=\"T_4b817e9a_7838_11ea_a46c_acde48001122row2_col6\" class=\"data row2 col6\" >0.98</td>\n",
       "                        <td id=\"T_4b817e9a_7838_11ea_a46c_acde48001122row2_col7\" class=\"data row2 col7\" >0</td>\n",
       "                        <td id=\"T_4b817e9a_7838_11ea_a46c_acde48001122row2_col8\" class=\"data row2 col8\" >0</td>\n",
       "                        <td id=\"T_4b817e9a_7838_11ea_a46c_acde48001122row2_col9\" class=\"data row2 col9\" >0</td>\n",
       "                        <td id=\"T_4b817e9a_7838_11ea_a46c_acde48001122row2_col10\" class=\"data row2 col10\" >6</td>\n",
       "            </tr>\n",
       "            <tr>\n",
       "                        <th id=\"T_4b817e9a_7838_11ea_a46c_acde48001122level0_row3\" class=\"row_heading level0 row3\" >Doc3</th>\n",
       "                        <td id=\"T_4b817e9a_7838_11ea_a46c_acde48001122row3_col0\" class=\"data row3 col0\" >0</td>\n",
       "                        <td id=\"T_4b817e9a_7838_11ea_a46c_acde48001122row3_col1\" class=\"data row3 col1\" >0</td>\n",
       "                        <td id=\"T_4b817e9a_7838_11ea_a46c_acde48001122row3_col2\" class=\"data row3 col2\" >0</td>\n",
       "                        <td id=\"T_4b817e9a_7838_11ea_a46c_acde48001122row3_col3\" class=\"data row3 col3\" >0.17</td>\n",
       "                        <td id=\"T_4b817e9a_7838_11ea_a46c_acde48001122row3_col4\" class=\"data row3 col4\" >0</td>\n",
       "                        <td id=\"T_4b817e9a_7838_11ea_a46c_acde48001122row3_col5\" class=\"data row3 col5\" >0</td>\n",
       "                        <td id=\"T_4b817e9a_7838_11ea_a46c_acde48001122row3_col6\" class=\"data row3 col6\" >0.31</td>\n",
       "                        <td id=\"T_4b817e9a_7838_11ea_a46c_acde48001122row3_col7\" class=\"data row3 col7\" >0.51</td>\n",
       "                        <td id=\"T_4b817e9a_7838_11ea_a46c_acde48001122row3_col8\" class=\"data row3 col8\" >0</td>\n",
       "                        <td id=\"T_4b817e9a_7838_11ea_a46c_acde48001122row3_col9\" class=\"data row3 col9\" >0</td>\n",
       "                        <td id=\"T_4b817e9a_7838_11ea_a46c_acde48001122row3_col10\" class=\"data row3 col10\" >7</td>\n",
       "            </tr>\n",
       "            <tr>\n",
       "                        <th id=\"T_4b817e9a_7838_11ea_a46c_acde48001122level0_row4\" class=\"row_heading level0 row4\" >Doc4</th>\n",
       "                        <td id=\"T_4b817e9a_7838_11ea_a46c_acde48001122row4_col0\" class=\"data row4 col0\" >0.96</td>\n",
       "                        <td id=\"T_4b817e9a_7838_11ea_a46c_acde48001122row4_col1\" class=\"data row4 col1\" >0</td>\n",
       "                        <td id=\"T_4b817e9a_7838_11ea_a46c_acde48001122row4_col2\" class=\"data row4 col2\" >0</td>\n",
       "                        <td id=\"T_4b817e9a_7838_11ea_a46c_acde48001122row4_col3\" class=\"data row4 col3\" >0</td>\n",
       "                        <td id=\"T_4b817e9a_7838_11ea_a46c_acde48001122row4_col4\" class=\"data row4 col4\" >0</td>\n",
       "                        <td id=\"T_4b817e9a_7838_11ea_a46c_acde48001122row4_col5\" class=\"data row4 col5\" >0</td>\n",
       "                        <td id=\"T_4b817e9a_7838_11ea_a46c_acde48001122row4_col6\" class=\"data row4 col6\" >0</td>\n",
       "                        <td id=\"T_4b817e9a_7838_11ea_a46c_acde48001122row4_col7\" class=\"data row4 col7\" >0</td>\n",
       "                        <td id=\"T_4b817e9a_7838_11ea_a46c_acde48001122row4_col8\" class=\"data row4 col8\" >0</td>\n",
       "                        <td id=\"T_4b817e9a_7838_11ea_a46c_acde48001122row4_col9\" class=\"data row4 col9\" >0</td>\n",
       "                        <td id=\"T_4b817e9a_7838_11ea_a46c_acde48001122row4_col10\" class=\"data row4 col10\" >0</td>\n",
       "            </tr>\n",
       "            <tr>\n",
       "                        <th id=\"T_4b817e9a_7838_11ea_a46c_acde48001122level0_row5\" class=\"row_heading level0 row5\" >Doc5</th>\n",
       "                        <td id=\"T_4b817e9a_7838_11ea_a46c_acde48001122row5_col0\" class=\"data row5 col0\" >0.01</td>\n",
       "                        <td id=\"T_4b817e9a_7838_11ea_a46c_acde48001122row5_col1\" class=\"data row5 col1\" >0.01</td>\n",
       "                        <td id=\"T_4b817e9a_7838_11ea_a46c_acde48001122row5_col2\" class=\"data row5 col2\" >0.01</td>\n",
       "                        <td id=\"T_4b817e9a_7838_11ea_a46c_acde48001122row5_col3\" class=\"data row5 col3\" >0.01</td>\n",
       "                        <td id=\"T_4b817e9a_7838_11ea_a46c_acde48001122row5_col4\" class=\"data row5 col4\" >0.95</td>\n",
       "                        <td id=\"T_4b817e9a_7838_11ea_a46c_acde48001122row5_col5\" class=\"data row5 col5\" >0.01</td>\n",
       "                        <td id=\"T_4b817e9a_7838_11ea_a46c_acde48001122row5_col6\" class=\"data row5 col6\" >0.01</td>\n",
       "                        <td id=\"T_4b817e9a_7838_11ea_a46c_acde48001122row5_col7\" class=\"data row5 col7\" >0.01</td>\n",
       "                        <td id=\"T_4b817e9a_7838_11ea_a46c_acde48001122row5_col8\" class=\"data row5 col8\" >0.01</td>\n",
       "                        <td id=\"T_4b817e9a_7838_11ea_a46c_acde48001122row5_col9\" class=\"data row5 col9\" >0.01</td>\n",
       "                        <td id=\"T_4b817e9a_7838_11ea_a46c_acde48001122row5_col10\" class=\"data row5 col10\" >4</td>\n",
       "            </tr>\n",
       "            <tr>\n",
       "                        <th id=\"T_4b817e9a_7838_11ea_a46c_acde48001122level0_row6\" class=\"row_heading level0 row6\" >Doc6</th>\n",
       "                        <td id=\"T_4b817e9a_7838_11ea_a46c_acde48001122row6_col0\" class=\"data row6 col0\" >0</td>\n",
       "                        <td id=\"T_4b817e9a_7838_11ea_a46c_acde48001122row6_col1\" class=\"data row6 col1\" >0</td>\n",
       "                        <td id=\"T_4b817e9a_7838_11ea_a46c_acde48001122row6_col2\" class=\"data row6 col2\" >0</td>\n",
       "                        <td id=\"T_4b817e9a_7838_11ea_a46c_acde48001122row6_col3\" class=\"data row6 col3\" >0</td>\n",
       "                        <td id=\"T_4b817e9a_7838_11ea_a46c_acde48001122row6_col4\" class=\"data row6 col4\" >0</td>\n",
       "                        <td id=\"T_4b817e9a_7838_11ea_a46c_acde48001122row6_col5\" class=\"data row6 col5\" >0</td>\n",
       "                        <td id=\"T_4b817e9a_7838_11ea_a46c_acde48001122row6_col6\" class=\"data row6 col6\" >0</td>\n",
       "                        <td id=\"T_4b817e9a_7838_11ea_a46c_acde48001122row6_col7\" class=\"data row6 col7\" >0.99</td>\n",
       "                        <td id=\"T_4b817e9a_7838_11ea_a46c_acde48001122row6_col8\" class=\"data row6 col8\" >0</td>\n",
       "                        <td id=\"T_4b817e9a_7838_11ea_a46c_acde48001122row6_col9\" class=\"data row6 col9\" >0</td>\n",
       "                        <td id=\"T_4b817e9a_7838_11ea_a46c_acde48001122row6_col10\" class=\"data row6 col10\" >7</td>\n",
       "            </tr>\n",
       "            <tr>\n",
       "                        <th id=\"T_4b817e9a_7838_11ea_a46c_acde48001122level0_row7\" class=\"row_heading level0 row7\" >Doc7</th>\n",
       "                        <td id=\"T_4b817e9a_7838_11ea_a46c_acde48001122row7_col0\" class=\"data row7 col0\" >0</td>\n",
       "                        <td id=\"T_4b817e9a_7838_11ea_a46c_acde48001122row7_col1\" class=\"data row7 col1\" >0</td>\n",
       "                        <td id=\"T_4b817e9a_7838_11ea_a46c_acde48001122row7_col2\" class=\"data row7 col2\" >0.23</td>\n",
       "                        <td id=\"T_4b817e9a_7838_11ea_a46c_acde48001122row7_col3\" class=\"data row7 col3\" >0</td>\n",
       "                        <td id=\"T_4b817e9a_7838_11ea_a46c_acde48001122row7_col4\" class=\"data row7 col4\" >0</td>\n",
       "                        <td id=\"T_4b817e9a_7838_11ea_a46c_acde48001122row7_col5\" class=\"data row7 col5\" >0</td>\n",
       "                        <td id=\"T_4b817e9a_7838_11ea_a46c_acde48001122row7_col6\" class=\"data row7 col6\" >0</td>\n",
       "                        <td id=\"T_4b817e9a_7838_11ea_a46c_acde48001122row7_col7\" class=\"data row7 col7\" >0.43</td>\n",
       "                        <td id=\"T_4b817e9a_7838_11ea_a46c_acde48001122row7_col8\" class=\"data row7 col8\" >0.33</td>\n",
       "                        <td id=\"T_4b817e9a_7838_11ea_a46c_acde48001122row7_col9\" class=\"data row7 col9\" >0</td>\n",
       "                        <td id=\"T_4b817e9a_7838_11ea_a46c_acde48001122row7_col10\" class=\"data row7 col10\" >7</td>\n",
       "            </tr>\n",
       "            <tr>\n",
       "                        <th id=\"T_4b817e9a_7838_11ea_a46c_acde48001122level0_row8\" class=\"row_heading level0 row8\" >Doc8</th>\n",
       "                        <td id=\"T_4b817e9a_7838_11ea_a46c_acde48001122row8_col0\" class=\"data row8 col0\" >0</td>\n",
       "                        <td id=\"T_4b817e9a_7838_11ea_a46c_acde48001122row8_col1\" class=\"data row8 col1\" >0</td>\n",
       "                        <td id=\"T_4b817e9a_7838_11ea_a46c_acde48001122row8_col2\" class=\"data row8 col2\" >0</td>\n",
       "                        <td id=\"T_4b817e9a_7838_11ea_a46c_acde48001122row8_col3\" class=\"data row8 col3\" >0</td>\n",
       "                        <td id=\"T_4b817e9a_7838_11ea_a46c_acde48001122row8_col4\" class=\"data row8 col4\" >0</td>\n",
       "                        <td id=\"T_4b817e9a_7838_11ea_a46c_acde48001122row8_col5\" class=\"data row8 col5\" >0</td>\n",
       "                        <td id=\"T_4b817e9a_7838_11ea_a46c_acde48001122row8_col6\" class=\"data row8 col6\" >0</td>\n",
       "                        <td id=\"T_4b817e9a_7838_11ea_a46c_acde48001122row8_col7\" class=\"data row8 col7\" >0</td>\n",
       "                        <td id=\"T_4b817e9a_7838_11ea_a46c_acde48001122row8_col8\" class=\"data row8 col8\" >0</td>\n",
       "                        <td id=\"T_4b817e9a_7838_11ea_a46c_acde48001122row8_col9\" class=\"data row8 col9\" >0.97</td>\n",
       "                        <td id=\"T_4b817e9a_7838_11ea_a46c_acde48001122row8_col10\" class=\"data row8 col10\" >9</td>\n",
       "            </tr>\n",
       "            <tr>\n",
       "                        <th id=\"T_4b817e9a_7838_11ea_a46c_acde48001122level0_row9\" class=\"row_heading level0 row9\" >Doc9</th>\n",
       "                        <td id=\"T_4b817e9a_7838_11ea_a46c_acde48001122row9_col0\" class=\"data row9 col0\" >0.99</td>\n",
       "                        <td id=\"T_4b817e9a_7838_11ea_a46c_acde48001122row9_col1\" class=\"data row9 col1\" >0</td>\n",
       "                        <td id=\"T_4b817e9a_7838_11ea_a46c_acde48001122row9_col2\" class=\"data row9 col2\" >0</td>\n",
       "                        <td id=\"T_4b817e9a_7838_11ea_a46c_acde48001122row9_col3\" class=\"data row9 col3\" >0</td>\n",
       "                        <td id=\"T_4b817e9a_7838_11ea_a46c_acde48001122row9_col4\" class=\"data row9 col4\" >0</td>\n",
       "                        <td id=\"T_4b817e9a_7838_11ea_a46c_acde48001122row9_col5\" class=\"data row9 col5\" >0</td>\n",
       "                        <td id=\"T_4b817e9a_7838_11ea_a46c_acde48001122row9_col6\" class=\"data row9 col6\" >0</td>\n",
       "                        <td id=\"T_4b817e9a_7838_11ea_a46c_acde48001122row9_col7\" class=\"data row9 col7\" >0</td>\n",
       "                        <td id=\"T_4b817e9a_7838_11ea_a46c_acde48001122row9_col8\" class=\"data row9 col8\" >0</td>\n",
       "                        <td id=\"T_4b817e9a_7838_11ea_a46c_acde48001122row9_col9\" class=\"data row9 col9\" >0</td>\n",
       "                        <td id=\"T_4b817e9a_7838_11ea_a46c_acde48001122row9_col10\" class=\"data row9 col10\" >0</td>\n",
       "            </tr>\n",
       "            <tr>\n",
       "                        <th id=\"T_4b817e9a_7838_11ea_a46c_acde48001122level0_row10\" class=\"row_heading level0 row10\" >Doc10</th>\n",
       "                        <td id=\"T_4b817e9a_7838_11ea_a46c_acde48001122row10_col0\" class=\"data row10 col0\" >0</td>\n",
       "                        <td id=\"T_4b817e9a_7838_11ea_a46c_acde48001122row10_col1\" class=\"data row10 col1\" >0</td>\n",
       "                        <td id=\"T_4b817e9a_7838_11ea_a46c_acde48001122row10_col2\" class=\"data row10 col2\" >0</td>\n",
       "                        <td id=\"T_4b817e9a_7838_11ea_a46c_acde48001122row10_col3\" class=\"data row10 col3\" >1</td>\n",
       "                        <td id=\"T_4b817e9a_7838_11ea_a46c_acde48001122row10_col4\" class=\"data row10 col4\" >0</td>\n",
       "                        <td id=\"T_4b817e9a_7838_11ea_a46c_acde48001122row10_col5\" class=\"data row10 col5\" >0</td>\n",
       "                        <td id=\"T_4b817e9a_7838_11ea_a46c_acde48001122row10_col6\" class=\"data row10 col6\" >0</td>\n",
       "                        <td id=\"T_4b817e9a_7838_11ea_a46c_acde48001122row10_col7\" class=\"data row10 col7\" >0</td>\n",
       "                        <td id=\"T_4b817e9a_7838_11ea_a46c_acde48001122row10_col8\" class=\"data row10 col8\" >0</td>\n",
       "                        <td id=\"T_4b817e9a_7838_11ea_a46c_acde48001122row10_col9\" class=\"data row10 col9\" >0</td>\n",
       "                        <td id=\"T_4b817e9a_7838_11ea_a46c_acde48001122row10_col10\" class=\"data row10 col10\" >3</td>\n",
       "            </tr>\n",
       "            <tr>\n",
       "                        <th id=\"T_4b817e9a_7838_11ea_a46c_acde48001122level0_row11\" class=\"row_heading level0 row11\" >Doc11</th>\n",
       "                        <td id=\"T_4b817e9a_7838_11ea_a46c_acde48001122row11_col0\" class=\"data row11 col0\" >0.01</td>\n",
       "                        <td id=\"T_4b817e9a_7838_11ea_a46c_acde48001122row11_col1\" class=\"data row11 col1\" >0.01</td>\n",
       "                        <td id=\"T_4b817e9a_7838_11ea_a46c_acde48001122row11_col2\" class=\"data row11 col2\" >0.01</td>\n",
       "                        <td id=\"T_4b817e9a_7838_11ea_a46c_acde48001122row11_col3\" class=\"data row11 col3\" >0.01</td>\n",
       "                        <td id=\"T_4b817e9a_7838_11ea_a46c_acde48001122row11_col4\" class=\"data row11 col4\" >0.01</td>\n",
       "                        <td id=\"T_4b817e9a_7838_11ea_a46c_acde48001122row11_col5\" class=\"data row11 col5\" >0.01</td>\n",
       "                        <td id=\"T_4b817e9a_7838_11ea_a46c_acde48001122row11_col6\" class=\"data row11 col6\" >0.01</td>\n",
       "                        <td id=\"T_4b817e9a_7838_11ea_a46c_acde48001122row11_col7\" class=\"data row11 col7\" >0.95</td>\n",
       "                        <td id=\"T_4b817e9a_7838_11ea_a46c_acde48001122row11_col8\" class=\"data row11 col8\" >0.01</td>\n",
       "                        <td id=\"T_4b817e9a_7838_11ea_a46c_acde48001122row11_col9\" class=\"data row11 col9\" >0.01</td>\n",
       "                        <td id=\"T_4b817e9a_7838_11ea_a46c_acde48001122row11_col10\" class=\"data row11 col10\" >7</td>\n",
       "            </tr>\n",
       "            <tr>\n",
       "                        <th id=\"T_4b817e9a_7838_11ea_a46c_acde48001122level0_row12\" class=\"row_heading level0 row12\" >Doc12</th>\n",
       "                        <td id=\"T_4b817e9a_7838_11ea_a46c_acde48001122row12_col0\" class=\"data row12 col0\" >0.01</td>\n",
       "                        <td id=\"T_4b817e9a_7838_11ea_a46c_acde48001122row12_col1\" class=\"data row12 col1\" >0.01</td>\n",
       "                        <td id=\"T_4b817e9a_7838_11ea_a46c_acde48001122row12_col2\" class=\"data row12 col2\" >0.87</td>\n",
       "                        <td id=\"T_4b817e9a_7838_11ea_a46c_acde48001122row12_col3\" class=\"data row12 col3\" >0.01</td>\n",
       "                        <td id=\"T_4b817e9a_7838_11ea_a46c_acde48001122row12_col4\" class=\"data row12 col4\" >0.01</td>\n",
       "                        <td id=\"T_4b817e9a_7838_11ea_a46c_acde48001122row12_col5\" class=\"data row12 col5\" >0.01</td>\n",
       "                        <td id=\"T_4b817e9a_7838_11ea_a46c_acde48001122row12_col6\" class=\"data row12 col6\" >0.01</td>\n",
       "                        <td id=\"T_4b817e9a_7838_11ea_a46c_acde48001122row12_col7\" class=\"data row12 col7\" >0.01</td>\n",
       "                        <td id=\"T_4b817e9a_7838_11ea_a46c_acde48001122row12_col8\" class=\"data row12 col8\" >0.01</td>\n",
       "                        <td id=\"T_4b817e9a_7838_11ea_a46c_acde48001122row12_col9\" class=\"data row12 col9\" >0.01</td>\n",
       "                        <td id=\"T_4b817e9a_7838_11ea_a46c_acde48001122row12_col10\" class=\"data row12 col10\" >2</td>\n",
       "            </tr>\n",
       "            <tr>\n",
       "                        <th id=\"T_4b817e9a_7838_11ea_a46c_acde48001122level0_row13\" class=\"row_heading level0 row13\" >Doc13</th>\n",
       "                        <td id=\"T_4b817e9a_7838_11ea_a46c_acde48001122row13_col0\" class=\"data row13 col0\" >0</td>\n",
       "                        <td id=\"T_4b817e9a_7838_11ea_a46c_acde48001122row13_col1\" class=\"data row13 col1\" >0</td>\n",
       "                        <td id=\"T_4b817e9a_7838_11ea_a46c_acde48001122row13_col2\" class=\"data row13 col2\" >0</td>\n",
       "                        <td id=\"T_4b817e9a_7838_11ea_a46c_acde48001122row13_col3\" class=\"data row13 col3\" >0</td>\n",
       "                        <td id=\"T_4b817e9a_7838_11ea_a46c_acde48001122row13_col4\" class=\"data row13 col4\" >0.98</td>\n",
       "                        <td id=\"T_4b817e9a_7838_11ea_a46c_acde48001122row13_col5\" class=\"data row13 col5\" >0</td>\n",
       "                        <td id=\"T_4b817e9a_7838_11ea_a46c_acde48001122row13_col6\" class=\"data row13 col6\" >0</td>\n",
       "                        <td id=\"T_4b817e9a_7838_11ea_a46c_acde48001122row13_col7\" class=\"data row13 col7\" >0</td>\n",
       "                        <td id=\"T_4b817e9a_7838_11ea_a46c_acde48001122row13_col8\" class=\"data row13 col8\" >0</td>\n",
       "                        <td id=\"T_4b817e9a_7838_11ea_a46c_acde48001122row13_col9\" class=\"data row13 col9\" >0</td>\n",
       "                        <td id=\"T_4b817e9a_7838_11ea_a46c_acde48001122row13_col10\" class=\"data row13 col10\" >4</td>\n",
       "            </tr>\n",
       "            <tr>\n",
       "                        <th id=\"T_4b817e9a_7838_11ea_a46c_acde48001122level0_row14\" class=\"row_heading level0 row14\" >Doc14</th>\n",
       "                        <td id=\"T_4b817e9a_7838_11ea_a46c_acde48001122row14_col0\" class=\"data row14 col0\" >0.01</td>\n",
       "                        <td id=\"T_4b817e9a_7838_11ea_a46c_acde48001122row14_col1\" class=\"data row14 col1\" >0.01</td>\n",
       "                        <td id=\"T_4b817e9a_7838_11ea_a46c_acde48001122row14_col2\" class=\"data row14 col2\" >0.01</td>\n",
       "                        <td id=\"T_4b817e9a_7838_11ea_a46c_acde48001122row14_col3\" class=\"data row14 col3\" >0.55</td>\n",
       "                        <td id=\"T_4b817e9a_7838_11ea_a46c_acde48001122row14_col4\" class=\"data row14 col4\" >0.01</td>\n",
       "                        <td id=\"T_4b817e9a_7838_11ea_a46c_acde48001122row14_col5\" class=\"data row14 col5\" >0.01</td>\n",
       "                        <td id=\"T_4b817e9a_7838_11ea_a46c_acde48001122row14_col6\" class=\"data row14 col6\" >0.01</td>\n",
       "                        <td id=\"T_4b817e9a_7838_11ea_a46c_acde48001122row14_col7\" class=\"data row14 col7\" >0.01</td>\n",
       "                        <td id=\"T_4b817e9a_7838_11ea_a46c_acde48001122row14_col8\" class=\"data row14 col8\" >0.35</td>\n",
       "                        <td id=\"T_4b817e9a_7838_11ea_a46c_acde48001122row14_col9\" class=\"data row14 col9\" >0.01</td>\n",
       "                        <td id=\"T_4b817e9a_7838_11ea_a46c_acde48001122row14_col10\" class=\"data row14 col10\" >3</td>\n",
       "            </tr>\n",
       "    </tbody></table>"
      ],
      "text/plain": [
       "<pandas.io.formats.style.Styler at 0x1a2f223210>"
      ]
     },
     "execution_count": 120,
     "metadata": {},
     "output_type": "execute_result"
    }
   ],
   "source": [
    "### Dominant Topic in each Document - find the topic that dominates the documents\n",
    "# Create Document - Topic Matrix\n",
    "lda_output = best_lda_model.transform(tf)\n",
    "\n",
    "# column names\n",
    "topicnames = [\"Topic\" + str(i) for i in range(best_lda_model.n_components)]\n",
    "\n",
    "# index names\n",
    "docnames = [\"Doc\" + str(i) for i in range(len(data))]\n",
    "\n",
    "# Make the pandas dataframe\n",
    "df_document_topic = pd.DataFrame(np.round(lda_output, 2), columns=topicnames, index=docnames)\n",
    "\n",
    "# Get dominant topic for each document\n",
    "dominant_topic = np.argmax(df_document_topic.values, axis=1)\n",
    "df_document_topic['dominant_topic'] = dominant_topic\n",
    "\n",
    "# Styling\n",
    "def color_green(val):\n",
    "    color = 'green' if val > .1 else 'black'\n",
    "    return 'color: {col}'.format(col=color)\n",
    "\n",
    "def make_bold(val):\n",
    "    weight = 700 if val > .1 else 400\n",
    "    return 'font-weight: {weight}'.format(weight=weight)\n",
    "\n",
    "# Apply Style\n",
    "df_document_topics = df_document_topic.head(15).style.applymap(color_green).applymap(make_bold)\n",
    "df_document_topics"
   ]
  },
  {
   "cell_type": "code",
   "execution_count": 140,
   "metadata": {},
   "outputs": [
    {
     "data": {
      "text/html": [
       "<div>\n",
       "<style scoped>\n",
       "    .dataframe tbody tr th:only-of-type {\n",
       "        vertical-align: middle;\n",
       "    }\n",
       "\n",
       "    .dataframe tbody tr th {\n",
       "        vertical-align: top;\n",
       "    }\n",
       "\n",
       "    .dataframe thead th {\n",
       "        text-align: right;\n",
       "    }\n",
       "</style>\n",
       "<table border=\"1\" class=\"dataframe\">\n",
       "  <thead>\n",
       "    <tr style=\"text-align: right;\">\n",
       "      <th></th>\n",
       "      <th>Topic Num</th>\n",
       "      <th>Num Documents</th>\n",
       "    </tr>\n",
       "  </thead>\n",
       "  <tbody>\n",
       "    <tr>\n",
       "      <td>0</td>\n",
       "      <td>7</td>\n",
       "      <td>17</td>\n",
       "    </tr>\n",
       "    <tr>\n",
       "      <td>1</td>\n",
       "      <td>0</td>\n",
       "      <td>16</td>\n",
       "    </tr>\n",
       "    <tr>\n",
       "      <td>2</td>\n",
       "      <td>6</td>\n",
       "      <td>13</td>\n",
       "    </tr>\n",
       "    <tr>\n",
       "      <td>3</td>\n",
       "      <td>2</td>\n",
       "      <td>12</td>\n",
       "    </tr>\n",
       "    <tr>\n",
       "      <td>4</td>\n",
       "      <td>9</td>\n",
       "      <td>10</td>\n",
       "    </tr>\n",
       "    <tr>\n",
       "      <td>5</td>\n",
       "      <td>4</td>\n",
       "      <td>9</td>\n",
       "    </tr>\n",
       "    <tr>\n",
       "      <td>6</td>\n",
       "      <td>3</td>\n",
       "      <td>9</td>\n",
       "    </tr>\n",
       "    <tr>\n",
       "      <td>7</td>\n",
       "      <td>1</td>\n",
       "      <td>8</td>\n",
       "    </tr>\n",
       "    <tr>\n",
       "      <td>8</td>\n",
       "      <td>8</td>\n",
       "      <td>4</td>\n",
       "    </tr>\n",
       "    <tr>\n",
       "      <td>9</td>\n",
       "      <td>5</td>\n",
       "      <td>2</td>\n",
       "    </tr>\n",
       "  </tbody>\n",
       "</table>\n",
       "</div>"
      ],
      "text/plain": [
       "   Topic Num  Num Documents\n",
       "0          7             17\n",
       "1          0             16\n",
       "2          6             13\n",
       "3          2             12\n",
       "4          9             10\n",
       "5          4              9\n",
       "6          3              9\n",
       "7          1              8\n",
       "8          8              4\n",
       "9          5              2"
      ]
     },
     "execution_count": 140,
     "metadata": {},
     "output_type": "execute_result"
    }
   ],
   "source": [
    "### Review Topic Distributions across documents\n",
    "#How many documents are in each topic?\n",
    "df_topic_distribution = df_document_topic['dominant_topic'].value_counts().reset_index(name=\"Num Documents\")\n",
    "df_topic_distribution.columns = ['Topic Num', 'Num Documents']\n",
    "df_topic_distribution"
   ]
  },
  {
   "cell_type": "markdown",
   "metadata": {},
   "source": [
    "### Data Exploration"
   ]
  },
  {
   "cell_type": "code",
   "execution_count": 108,
   "metadata": {},
   "outputs": [],
   "source": [
    "d = {'Fun Events': ['Swimming', 'Tennis','Tennis','Tennis','Biking','Swimming'], 'Location': ['Texas', 'California', 'California','New York','Wyoming','Virginia'], 'Gender': ['Male','Female','Male','Male','Male','Male']}"
   ]
  },
  {
   "cell_type": "code",
   "execution_count": 109,
   "metadata": {},
   "outputs": [],
   "source": [
    "fun_df = pd.DataFrame(data=d)"
   ]
  },
  {
   "cell_type": "code",
   "execution_count": 110,
   "metadata": {},
   "outputs": [
    {
     "data": {
      "text/html": [
       "<div>\n",
       "<style scoped>\n",
       "    .dataframe tbody tr th:only-of-type {\n",
       "        vertical-align: middle;\n",
       "    }\n",
       "\n",
       "    .dataframe tbody tr th {\n",
       "        vertical-align: top;\n",
       "    }\n",
       "\n",
       "    .dataframe thead th {\n",
       "        text-align: right;\n",
       "    }\n",
       "</style>\n",
       "<table border=\"1\" class=\"dataframe\">\n",
       "  <thead>\n",
       "    <tr style=\"text-align: right;\">\n",
       "      <th></th>\n",
       "      <th>Fun Events</th>\n",
       "      <th>Location</th>\n",
       "      <th>Gender</th>\n",
       "    </tr>\n",
       "  </thead>\n",
       "  <tbody>\n",
       "    <tr>\n",
       "      <td>0</td>\n",
       "      <td>Swimming</td>\n",
       "      <td>Texas</td>\n",
       "      <td>Male</td>\n",
       "    </tr>\n",
       "    <tr>\n",
       "      <td>1</td>\n",
       "      <td>Tennis</td>\n",
       "      <td>California</td>\n",
       "      <td>Female</td>\n",
       "    </tr>\n",
       "    <tr>\n",
       "      <td>2</td>\n",
       "      <td>Tennis</td>\n",
       "      <td>California</td>\n",
       "      <td>Male</td>\n",
       "    </tr>\n",
       "    <tr>\n",
       "      <td>3</td>\n",
       "      <td>Tennis</td>\n",
       "      <td>New York</td>\n",
       "      <td>Male</td>\n",
       "    </tr>\n",
       "    <tr>\n",
       "      <td>4</td>\n",
       "      <td>Biking</td>\n",
       "      <td>Wyoming</td>\n",
       "      <td>Male</td>\n",
       "    </tr>\n",
       "    <tr>\n",
       "      <td>5</td>\n",
       "      <td>Swimming</td>\n",
       "      <td>Virginia</td>\n",
       "      <td>Male</td>\n",
       "    </tr>\n",
       "  </tbody>\n",
       "</table>\n",
       "</div>"
      ],
      "text/plain": [
       "  Fun Events    Location  Gender\n",
       "0   Swimming       Texas    Male\n",
       "1     Tennis  California  Female\n",
       "2     Tennis  California    Male\n",
       "3     Tennis    New York    Male\n",
       "4     Biking     Wyoming    Male\n",
       "5   Swimming    Virginia    Male"
      ]
     },
     "execution_count": 110,
     "metadata": {},
     "output_type": "execute_result"
    }
   ],
   "source": [
    "fun_df"
   ]
  },
  {
   "cell_type": "code",
   "execution_count": 113,
   "metadata": {},
   "outputs": [
    {
     "data": {
      "text/plain": [
       "Tennis      3\n",
       "Swimming    2\n",
       "Biking      1\n",
       "Name: Fun Events, dtype: int64"
      ]
     },
     "execution_count": 113,
     "metadata": {},
     "output_type": "execute_result"
    }
   ],
   "source": [
    "fun_df['Fun Events'].value_counts()"
   ]
  },
  {
   "cell_type": "code",
   "execution_count": 114,
   "metadata": {},
   "outputs": [
    {
     "data": {
      "text/plain": [
       "California    2\n",
       "Texas         1\n",
       "Wyoming       1\n",
       "Virginia      1\n",
       "New York      1\n",
       "Name: Location, dtype: int64"
      ]
     },
     "execution_count": 114,
     "metadata": {},
     "output_type": "execute_result"
    }
   ],
   "source": [
    "fun_df['Location'].value_counts()"
   ]
  },
  {
   "cell_type": "code",
   "execution_count": 115,
   "metadata": {},
   "outputs": [
    {
     "data": {
      "text/html": [
       "<div>\n",
       "<style scoped>\n",
       "    .dataframe tbody tr th:only-of-type {\n",
       "        vertical-align: middle;\n",
       "    }\n",
       "\n",
       "    .dataframe tbody tr th {\n",
       "        vertical-align: top;\n",
       "    }\n",
       "\n",
       "    .dataframe thead th {\n",
       "        text-align: right;\n",
       "    }\n",
       "</style>\n",
       "<table border=\"1\" class=\"dataframe\">\n",
       "  <thead>\n",
       "    <tr style=\"text-align: right;\">\n",
       "      <th></th>\n",
       "      <th>Fun Events</th>\n",
       "      <th>Location</th>\n",
       "      <th>Gender</th>\n",
       "    </tr>\n",
       "  </thead>\n",
       "  <tbody>\n",
       "    <tr>\n",
       "      <td>1</td>\n",
       "      <td>Tennis</td>\n",
       "      <td>California</td>\n",
       "      <td>Female</td>\n",
       "    </tr>\n",
       "    <tr>\n",
       "      <td>2</td>\n",
       "      <td>Tennis</td>\n",
       "      <td>California</td>\n",
       "      <td>Male</td>\n",
       "    </tr>\n",
       "  </tbody>\n",
       "</table>\n",
       "</div>"
      ],
      "text/plain": [
       "  Fun Events    Location  Gender\n",
       "1     Tennis  California  Female\n",
       "2     Tennis  California    Male"
      ]
     },
     "execution_count": 115,
     "metadata": {},
     "output_type": "execute_result"
    }
   ],
   "source": [
    "fun_df[(fun_df['Fun Events'] == 'Tennis') & (fun_df['Location']== 'California')]"
   ]
  },
  {
   "cell_type": "code",
   "execution_count": 117,
   "metadata": {},
   "outputs": [],
   "source": [
    "import seaborn as sns"
   ]
  },
  {
   "cell_type": "code",
   "execution_count": 119,
   "metadata": {},
   "outputs": [
    {
     "data": {
      "image/png": "[encoded data removed]",
      "text/plain": [
       "<Figure size 432x288 with 1 Axes>"
      ]
     },
     "metadata": {
      "needs_background": "light"
     },
     "output_type": "display_data"
    }
   ],
   "source": [
    "sns.countplot(fun_df['Fun Events']);"
   ]
  },
  {
   "cell_type": "code",
   "execution_count": null,
   "metadata": {},
   "outputs": [],
   "source": [
    "#need to clean notebook"
   ]
  },
  {
   "cell_type": "markdown",
   "metadata": {},
   "source": [
    "## Regular Expressions"
   ]
  },
  {
   "cell_type": "code",
   "execution_count": 19,
   "metadata": {},
   "outputs": [],
   "source": [
    "import re\n",
    "import pandas as pd"
   ]
  },
  {
   "cell_type": "code",
   "execution_count": 88,
   "metadata": {},
   "outputs": [],
   "source": [
    "example_strings = ['This is a list of new things \\n\\n Here we are Data science is an inter-disciplinary field that uses scientific methods, processes, algorithms and systems to extract knowledge and insights from many structural and unstructured data. \\n MAJOR IMPORTANT THINGS: \\n Thing 1 is important \\n Thing 2 is important \\n thing 3 is also important \\n MAJOR OTHER IMPORTANT THINGS: \\n [1][2] Data science is related to data mining, deep learning and big data.',\n",
    "                  'This is a list of new things \\n\\n Here we are Data science is an structural and unstructured data. \\n\\n MAJOR IMPORTANT THINGS: \\n Thing 1 is important \\n Thing 2 is important \\n thing 3 is also important \\n Thing four is definitely important \\n   Thing five is good as well \\n MAJOR OTHER IMPORTANT THINGS: \\n [1][2] Data science is related to data mining, deep learning and big data.',\n",
    "                  'Example of important string, \\n MAJOR IMPORTANT THINGS: Blah BLAH \\n\\n thing 1 \\n\\n thing 2 \\n MAJOR OTHER IMPORTANT THINGS:  ',\n",
    "                   'test test']\n",
    "example_df = pd.DataFrame(example_strings, columns=['text'])"
   ]
  },
  {
   "cell_type": "code",
   "execution_count": 21,
   "metadata": {},
   "outputs": [
    {
     "name": "stdout",
     "output_type": "stream",
     "text": [
      "This is a list of new things \n",
      "\n",
      " Here we are Data science is an inter-disciplinary field that uses scientific methods, processes, algorithms and systems to extract knowledge and insights from many structural and unstructured data. \n",
      " MAJOR IMPORTANT THINGS: \n",
      " Thing 1 is important \n",
      " Thing 2 is important \n",
      " thing 3 is also important \n",
      " MAJOR OTHER IMPORTANT THINGS: \n",
      " [1][2] Data science is related to data mining, deep learning and big data.\n"
     ]
    }
   ],
   "source": [
    "print(example_strings[0])"
   ]
  },
  {
   "cell_type": "code",
   "execution_count": 26,
   "metadata": {},
   "outputs": [
    {
     "name": "stdout",
     "output_type": "stream",
     "text": [
      "This is a list of new things \n",
      "\n",
      " Here we are Data science is an inter-disciplinary field that uses scientific methods, processes, algorithms and systems to extract knowledge and insights from many structural and unstructured data. \n",
      " MAJOR IMPORTANT THINGS: \n",
      " Thing 1 is important \n",
      " Thing 2 is important \n",
      " thing 3 is also important \n",
      " MAJOR OTHER IMPORTANT THINGS: \n",
      " [1][2] Data science is related to data mining, deep learning and big data.\n"
     ]
    }
   ],
   "source": [
    "print(example_df['text'].iloc[0])"
   ]
  },
  {
   "cell_type": "code",
   "execution_count": 121,
   "metadata": {},
   "outputs": [
    {
     "name": "stdout",
     "output_type": "stream",
     "text": [
      "[3, 5, 3, 0]\n"
     ]
    }
   ],
   "source": [
    "#Count number of new lines appearing between two distinct string matches\n",
    "num_events = []\n",
    "for i in range(len(example_df)):\n",
    "    message = example_df['text'].iloc[i]\n",
    "    message = message.replace('\\n\\n', '\\n')\n",
    "    match_beg = re.search(\"(MAJOR IMPORTANT THINGS:)([\\S\\s]+)(MAJOR OTHER IMPORTANT THINGS:)\", message)\n",
    "    if (match_beg != None):\n",
    "        match = match_beg.group(2).strip()\n",
    "        match_number = match.count('\\n')+1\n",
    "        num_events.append(match_number)\n",
    "    elif (match_beg == None):\n",
    "        num_events.append(0)\n",
    "    else:\n",
    "        print('ERROR')\n",
    "\n",
    "print(num_events)"
   ]
  },
  {
   "cell_type": "code",
   "execution_count": 94,
   "metadata": {},
   "outputs": [
    {
     "name": "stdout",
     "output_type": "stream",
     "text": [
      "1\n",
      "This is a list of new things \n",
      "\n",
      " Here we are Data science is an inter-disciplinary field that uses scientific methods, processes, algorithms and systems to extract knowledge and insights from many structural and unstructured data. \n",
      " MAJOR IMPORTANT THINGS: \n",
      " Thing 1 is important \n",
      " Thing 2 is important \n",
      " thing 3 is also important \n",
      " MAJOR OTHER IMPORTANT THINGS: \n",
      " [1][2] Data science is related to data mining, deep learning and big data.\n",
      "2\n",
      "This is a list of new things \n",
      "\n",
      " Here we are Data science is an structural and unstructured data. \n",
      "\n",
      " MAJOR IMPORTANT THINGS: \n",
      " Thing 1 is important \n",
      " Thing 2 is important \n",
      " thing 3 is also important \n",
      " Thing four is definitely important \n",
      "   Thing five is good as well \n",
      " MAJOR OTHER IMPORTANT THINGS: \n",
      " [1][2] Data science is related to data mining, deep learning and big data.\n",
      "3\n",
      "Example of important string, \n",
      " MAJOR IMPORTANT THINGS: Blah BLAH \n",
      "\n",
      " thing 1 \n",
      "\n",
      " thing 2 \n",
      " MAJOR OTHER IMPORTANT THINGS:  \n",
      "4\n",
      "test test\n"
     ]
    }
   ],
   "source": [
    "count=0\n",
    "for i in example_df['text']:\n",
    "    count= count+1\n",
    "    print(count)\n",
    "    print(i)"
   ]
  }
 ],
 "metadata": {
  "kernelspec": {
   "display_name": "Python 3",
   "language": "python",
   "name": "python3"
  },
  "language_info": {
   "codemirror_mode": {
    "name": "ipython",
    "version": 3
   },
   "file_extension": ".py",
   "mimetype": "text/x-python",
   "name": "python",
   "nbconvert_exporter": "python",
   "pygments_lexer": "ipython3",
   "version": "3.7.4"
  }
 },
 "nbformat": 4,
 "nbformat_minor": 2
}
